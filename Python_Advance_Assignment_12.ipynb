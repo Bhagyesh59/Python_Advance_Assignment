{
 "cells": [
  {
   "cell_type": "code",
   "execution_count": null,
   "id": "8a6f9aa7",
   "metadata": {},
   "outputs": [],
   "source": [
    "Q1. Does assigning a value to a string's indexed character violate Python's string immutability?\n"
   ]
  },
  {
   "cell_type": "code",
   "execution_count": null,
   "id": "0fd51ccd",
   "metadata": {},
   "outputs": [],
   "source": [
    "Yes. It is beacause of string immutability that means we can not change the characters in string by assigning new values to \n",
    "indexes."
   ]
  },
  {
   "cell_type": "code",
   "execution_count": null,
   "id": "e3a7fe22",
   "metadata": {},
   "outputs": [],
   "source": [
    "Q2. Does using the += operator to concatenate strings violate Python's string immutability? Why or why not?"
   ]
  },
  {
   "cell_type": "code",
   "execution_count": null,
   "id": "9800b971",
   "metadata": {},
   "outputs": [],
   "source": [
    "No. When we concatenate string, we assign new value to the same string variable. We are not altering string based on the \n",
    "indexes, so it won't violate Python's string immutability"
   ]
  },
  {
   "cell_type": "code",
   "execution_count": null,
   "id": "59a44c46",
   "metadata": {},
   "outputs": [],
   "source": [
    "Q3. In Python, how many different ways are there to index a character?"
   ]
  },
  {
   "cell_type": "code",
   "execution_count": null,
   "id": "835dd364",
   "metadata": {},
   "outputs": [],
   "source": [
    "There are two methods for this, find() and index() both will return the lowest index at which char is found."
   ]
  },
  {
   "cell_type": "code",
   "execution_count": null,
   "id": "1cf31729",
   "metadata": {},
   "outputs": [],
   "source": [
    "Q4. What is the relationship between indexing and slicing?"
   ]
  },
  {
   "cell_type": "code",
   "execution_count": null,
   "id": "9f583519",
   "metadata": {},
   "outputs": [],
   "source": [
    "Indexing is a way to access an element of a string by its position or index. \n",
    "Slicing is accessing only part od a string and not a full string. String slicing is done by using index."
   ]
  },
  {
   "cell_type": "code",
   "execution_count": 1,
   "id": "f5f36bd2",
   "metadata": {},
   "outputs": [
    {
     "name": "stdout",
     "output_type": "stream",
     "text": [
      "neu\n",
      "noru\n"
     ]
    }
   ],
   "source": [
    "s = 'ineuron'\n",
    "\n",
    "print(s[1:4])\n",
    "print(s[-1:2:-1])"
   ]
  },
  {
   "cell_type": "code",
   "execution_count": null,
   "id": "bb5cf08c",
   "metadata": {},
   "outputs": [],
   "source": [
    "Q5. What is an indexed character's exact data type? What is the data form of a slicing-generated substring?"
   ]
  },
  {
   "cell_type": "code",
   "execution_count": null,
   "id": "1fc29af8",
   "metadata": {},
   "outputs": [],
   "source": [
    "for both cases, it is 'str' type."
   ]
  },
  {
   "cell_type": "code",
   "execution_count": 2,
   "id": "9c78dec8",
   "metadata": {},
   "outputs": [
    {
     "name": "stdout",
     "output_type": "stream",
     "text": [
      "H\n",
      "<class 'str'>\n"
     ]
    }
   ],
   "source": [
    "my_string = \"Hello, World!\"\n",
    "char_at_index_0 = my_string[0]\n",
    "\n",
    "print(char_at_index_0)\n",
    "print(type(char_at_index_0))\n"
   ]
  },
  {
   "cell_type": "code",
   "execution_count": 3,
   "id": "66475333",
   "metadata": {},
   "outputs": [
    {
     "name": "stdout",
     "output_type": "stream",
     "text": [
      "World\n",
      "<class 'str'>\n"
     ]
    }
   ],
   "source": [
    "my_string = \"Hello, World!\"\n",
    "substring = my_string[7:12]\n",
    "\n",
    "print(substring)\n",
    "print(type(substring))\n"
   ]
  },
  {
   "cell_type": "code",
   "execution_count": null,
   "id": "3fcd1779",
   "metadata": {},
   "outputs": [],
   "source": [
    "Q6. What is the relationship between string and character \"types\" in Python? "
   ]
  },
  {
   "cell_type": "code",
   "execution_count": null,
   "id": "3a140948",
   "metadata": {},
   "outputs": [],
   "source": [
    "In Python, There is no char data type, even a single character enclosed in doubble quotes is considered as str."
   ]
  },
  {
   "cell_type": "code",
   "execution_count": null,
   "id": "52bb8a31",
   "metadata": {},
   "outputs": [],
   "source": [
    "Q7. Identify at least two operators and one method that allow you to combine one or more smaller strings to create a larger \n",
    "string."
   ]
  },
  {
   "cell_type": "code",
   "execution_count": null,
   "id": "ef5eb30c",
   "metadata": {},
   "outputs": [],
   "source": [
    "\"+\" will concatenate two strings and \"*\" will repeat the string number of times mentioned. We can also use join() method for \n",
    "getting a larger string."
   ]
  },
  {
   "cell_type": "code",
   "execution_count": 6,
   "id": "2185f219",
   "metadata": {},
   "outputs": [
    {
     "name": "stdout",
     "output_type": "stream",
     "text": [
      "Hello!How are you?\n",
      "RainRainRainRain\n",
      "Hi How are you?\n"
     ]
    }
   ],
   "source": [
    "print(\"Hello!\" + 'How are you?')\n",
    "\n",
    "print(\"Rain\" * 4)\n",
    "\n",
    "l = ['Hi','How', 'are', 'you?']\n",
    "\n",
    "s = ' '.join(l)\n",
    "\n",
    "print(s)"
   ]
  },
  {
   "cell_type": "code",
   "execution_count": null,
   "id": "6e4f57e3",
   "metadata": {},
   "outputs": [],
   "source": [
    "Q8. What is the benefit of first checking the target string with in or not in before using the index method to find a substring?"
   ]
  },
  {
   "cell_type": "code",
   "execution_count": null,
   "id": "4ae8f5e0",
   "metadata": {},
   "outputs": [],
   "source": [
    "Normally, when we use index() method it will return the starting index of a substring, if substring is present in a string. \n",
    "But the major concern is if a substring is not present in a string, index() will return a ValueError. To avoid this, we can \n",
    "first check the target string with in or not in before using the index method to find a substring."
   ]
  },
  {
   "cell_type": "code",
   "execution_count": 7,
   "id": "b7042dfb",
   "metadata": {},
   "outputs": [
    {
     "ename": "ValueError",
     "evalue": "substring not found",
     "output_type": "error",
     "traceback": [
      "\u001b[1;31m---------------------------------------------------------------------------\u001b[0m",
      "\u001b[1;31mValueError\u001b[0m                                Traceback (most recent call last)",
      "Cell \u001b[1;32mIn[7], line 8\u001b[0m\n\u001b[0;32m      5\u001b[0m \u001b[38;5;28;01mif\u001b[39;00m s1 \u001b[38;5;129;01min\u001b[39;00m s:\n\u001b[0;32m      6\u001b[0m     \u001b[38;5;28mprint\u001b[39m(s\u001b[38;5;241m.\u001b[39mindex(s1))\n\u001b[1;32m----> 8\u001b[0m \u001b[43ms\u001b[49m\u001b[38;5;241;43m.\u001b[39;49m\u001b[43mindex\u001b[49m\u001b[43m(\u001b[49m\u001b[43ms1\u001b[49m\u001b[43m)\u001b[49m\n",
      "\u001b[1;31mValueError\u001b[0m: substring not found"
     ]
    }
   ],
   "source": [
    "s = 'abcdefghijk'\n",
    "\n",
    "s1 = 'xyz'\n",
    "\n",
    "if s1 in s:\n",
    "    print(s.index(s1))\n",
    "\n",
    "s.index(s1)"
   ]
  },
  {
   "cell_type": "code",
   "execution_count": null,
   "id": "e56d896a",
   "metadata": {},
   "outputs": [],
   "source": [
    "Q9. Which operators and built-in string methods produce simple Boolean (true/false) results?"
   ]
  },
  {
   "cell_type": "code",
   "execution_count": null,
   "id": "6b62d085",
   "metadata": {},
   "outputs": [],
   "source": [
    "\n",
    "Operators:\n",
    "    \n",
    "        1. Comparison operators : (== ,!= ,< ,> ,<=, >=) \n",
    "        2. Logical Operators : (and, or, not)\n",
    "        3. Identity Operators : (is , is not)\n",
    "        4. Membership Operators : (in, not in)\n",
    "    \n",
    "String methods:\n",
    "    \n",
    "        1. endswith() : Returns true if the string ends with the specified value \n",
    "        2. isalnum()\tReturns True if all characters in the string are alphanumeric        \n",
    "        3. isalpha()\tReturns True if all characters in the string are in the alphabet        \n",
    "        4. isdecimal()\tReturns True if all characters in the string are decimals       \n",
    "        5. isdigit()\tReturns True if all characters in the string are digits        \n",
    "        6. isidentifier()\tReturns True if the string is an identifier        \n",
    "        7. islower()\tReturns True if all characters in the string are lower case        \n",
    "        8. isnumeric()\tReturns True if all characters in the string are numeric        \n",
    "        9. isprintable()\tReturns True if all characters in the string are printable        \n",
    "        10. isspace()\tReturns True if all characters in the string are whitespaces        \n",
    "        11. istitle()\tReturns True if the string follows the rules of a title        \n",
    "        12. isupper()\tReturns True if all characters in the string are upper case"
   ]
  }
 ],
 "metadata": {
  "kernelspec": {
   "display_name": "Python 3 (ipykernel)",
   "language": "python",
   "name": "python3"
  },
  "language_info": {
   "codemirror_mode": {
    "name": "ipython",
    "version": 3
   },
   "file_extension": ".py",
   "mimetype": "text/x-python",
   "name": "python",
   "nbconvert_exporter": "python",
   "pygments_lexer": "ipython3",
   "version": "3.10.9"
  }
 },
 "nbformat": 4,
 "nbformat_minor": 5
}
