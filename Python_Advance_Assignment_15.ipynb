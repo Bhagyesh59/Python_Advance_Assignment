{
 "cells": [
  {
   "cell_type": "code",
   "execution_count": null,
   "id": "c839f9f6",
   "metadata": {},
   "outputs": [],
   "source": [
    "1.What are the new features added in Python 3.8 version?"
   ]
  },
  {
   "cell_type": "code",
   "execution_count": null,
   "id": "3272c8a0",
   "metadata": {},
   "outputs": [],
   "source": [
    "Positional-only parameters(/)\n",
    "\n",
    "There is a new function parameter syntax “/” which indicates that some function parameters must be specified positionally and \n",
    "can’t be used as keyword arguments.\n",
    "            \n",
    "Assignment Expressions(:=)\n",
    "\n",
    "This operator is used to assign and return a value in the same expression. This removes the need for initializing the variable\n",
    "upfront.\n",
    "\n",
    "f-strings now support “=”\n",
    "\n",
    "This string formatting mechanism is known as Literal String Interpolation or more commonly as F-strings (because of the leading\n",
    "f character preceding the string literal). The idea behind f-strings is to make string interpolation simpler. Python 3.8 allows \n",
    "the use of the above-discussed assignment operator and equal sign (=) inside the f-strings.\n",
    "                    \n",
    "reversed() works with a dictionary\n",
    "Unlike Python 3.7, now in Python 3.8, the built-in method “reversed()” can be used for accessing the elements in the reverse \n",
    "order of insertion.\n",
    "        \n",
    "No parentheses for return and yield statements\n",
    "‘yield’ and ‘return’ statements do not require parentheses to return multiple values.\n",
    "        \n",
    "pow() function\n",
    "In the three-argument form of pow(), when the exponent is -1, it calculates the modular multiplicative inverse of the given \n",
    "value.\n",
    "\n",
    "\n",
    "Syntax Warning\n",
    "If you miss a comma in your code such as a = [(1, 2) (3, 4)], instead of throwing TypeError, it displays an informative Syntax \n",
    "warning."
   ]
  },
  {
   "cell_type": "code",
   "execution_count": null,
   "id": "b44b9f2f",
   "metadata": {},
   "outputs": [],
   "source": [
    "2.What is monkey patching in Python?"
   ]
  },
  {
   "cell_type": "code",
   "execution_count": null,
   "id": "a77a5b68",
   "metadata": {},
   "outputs": [],
   "source": [
    "In python, monkey patching refers to run-time modifications of a class or module. In Python, we can actually change the behavior\n",
    "of code at run-time."
   ]
  },
  {
   "cell_type": "code",
   "execution_count": null,
   "id": "850879c4",
   "metadata": {},
   "outputs": [],
   "source": [
    "3.What is the difference between a shallow copy and deep copy?"
   ]
  },
  {
   "cell_type": "code",
   "execution_count": null,
   "id": "57874212",
   "metadata": {},
   "outputs": [],
   "source": [
    "In python, when we use = operator, it doesnot create a copy of the object. It just creates the variable, which shares a \n",
    "reference to the same memory location. This is called as shallow copy. In deep copy, new object is a copy of old object and it\n",
    "is created at different memory address and any changes made to new object won't be reflected in old object."
   ]
  },
  {
   "cell_type": "code",
   "execution_count": null,
   "id": "bd536f99",
   "metadata": {},
   "outputs": [],
   "source": [
    "4.What is the maximum possible length of an identifier?"
   ]
  },
  {
   "cell_type": "code",
   "execution_count": null,
   "id": "e0e1aa3b",
   "metadata": {},
   "outputs": [],
   "source": [
    "The maximum possible length of an identifier is not defined in Python. It can be any number."
   ]
  },
  {
   "cell_type": "code",
   "execution_count": null,
   "id": "d63157db",
   "metadata": {},
   "outputs": [],
   "source": [
    "5.What is generator comprehension?"
   ]
  },
  {
   "cell_type": "code",
   "execution_count": 1,
   "id": "3db4658d",
   "metadata": {},
   "outputs": [
    {
     "name": "stdout",
     "output_type": "stream",
     "text": [
      "<generator object <genexpr> at 0x0000027F3DF3D460>\n",
      "0\n",
      "1\n",
      "2\n",
      "3\n",
      "4\n"
     ]
    }
   ],
   "source": [
    "# It is like a list comprehension but it returns an iteraor. We use () instead of [] to achieve this.\n",
    "\n",
    "numbers = (i for i in range(5))\n",
    "\n",
    "print(numbers)\n",
    "\n",
    "print(next(numbers))\n",
    "print(next(numbers))\n",
    "print(next(numbers))\n",
    "print(next(numbers))\n",
    "print(next(numbers))"
   ]
  }
 ],
 "metadata": {
  "kernelspec": {
   "display_name": "Python 3 (ipykernel)",
   "language": "python",
   "name": "python3"
  },
  "language_info": {
   "codemirror_mode": {
    "name": "ipython",
    "version": 3
   },
   "file_extension": ".py",
   "mimetype": "text/x-python",
   "name": "python",
   "nbconvert_exporter": "python",
   "pygments_lexer": "ipython3",
   "version": "3.10.9"
  }
 },
 "nbformat": 4,
 "nbformat_minor": 5
}
