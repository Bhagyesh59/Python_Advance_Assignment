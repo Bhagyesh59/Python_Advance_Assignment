{
 "cells": [
  {
   "cell_type": "code",
   "execution_count": null,
   "id": "98e8d555",
   "metadata": {},
   "outputs": [],
   "source": [
    "Q1. What is the distinction between a numpy array and a pandas data frame? Is there a way to convert between the two if there is?"
   ]
  },
  {
   "cell_type": "code",
   "execution_count": 1,
   "id": "696f93ea",
   "metadata": {},
   "outputs": [
    {
     "data": {
      "text/plain": [
       "array([[0, 1, 2, 3, 4],\n",
       "       [5, 6, 7, 8, 9]])"
      ]
     },
     "execution_count": 1,
     "metadata": {},
     "output_type": "execute_result"
    }
   ],
   "source": [
    "# Numpy array: This is in the form of matrix structure which have rows and columns. It generally performs python mathematical\n",
    "# operation which is not genrally easy manually to perfomr in coding case. It may be of any dimensions like 1-d, 2-d, 3-d, 4-d, \n",
    "# etc depend upon the use to requirement. Unlike dataframe, numpy array are not in a tabular form which ahve records and have \n",
    "# fields instead it is in the form of matrices. It can have single row and single column as well but dataframe poses more than \n",
    "# one column\n",
    "\n",
    "# DataFrame: This is a kind of tabular structure format which are having more than one column. Unlike numpy array which can have\n",
    "# more single as well as many number of columns, but dataframe have more than one column. Dataframe can have any number of\n",
    "# dimensons but it should be more than one. We can use numpy array operation in dataframe and can also convert the numpy array \n",
    "# into dataframe.\n",
    "\n",
    "# We can convert between the two in following manner:\n",
    "import pandas as pd\n",
    "import numpy as np\n",
    "array=np.arange(10).reshape(2,5)\n",
    "array"
   ]
  },
  {
   "cell_type": "code",
   "execution_count": 2,
   "id": "0116b46a",
   "metadata": {},
   "outputs": [
    {
     "data": {
      "text/html": [
       "<div>\n",
       "<style scoped>\n",
       "    .dataframe tbody tr th:only-of-type {\n",
       "        vertical-align: middle;\n",
       "    }\n",
       "\n",
       "    .dataframe tbody tr th {\n",
       "        vertical-align: top;\n",
       "    }\n",
       "\n",
       "    .dataframe thead th {\n",
       "        text-align: right;\n",
       "    }\n",
       "</style>\n",
       "<table border=\"1\" class=\"dataframe\">\n",
       "  <thead>\n",
       "    <tr style=\"text-align: right;\">\n",
       "      <th></th>\n",
       "      <th>0</th>\n",
       "      <th>1</th>\n",
       "      <th>2</th>\n",
       "      <th>3</th>\n",
       "      <th>4</th>\n",
       "    </tr>\n",
       "  </thead>\n",
       "  <tbody>\n",
       "    <tr>\n",
       "      <th>0</th>\n",
       "      <td>0</td>\n",
       "      <td>1</td>\n",
       "      <td>2</td>\n",
       "      <td>3</td>\n",
       "      <td>4</td>\n",
       "    </tr>\n",
       "    <tr>\n",
       "      <th>1</th>\n",
       "      <td>5</td>\n",
       "      <td>6</td>\n",
       "      <td>7</td>\n",
       "      <td>8</td>\n",
       "      <td>9</td>\n",
       "    </tr>\n",
       "  </tbody>\n",
       "</table>\n",
       "</div>"
      ],
      "text/plain": [
       "   0  1  2  3  4\n",
       "0  0  1  2  3  4\n",
       "1  5  6  7  8  9"
      ]
     },
     "execution_count": 2,
     "metadata": {},
     "output_type": "execute_result"
    }
   ],
   "source": [
    "df=pd.DataFrame(array)\n",
    "df"
   ]
  },
  {
   "cell_type": "code",
   "execution_count": 3,
   "id": "99aa163b",
   "metadata": {},
   "outputs": [
    {
     "data": {
      "text/plain": [
       "array([[0, 1, 2, 3, 4],\n",
       "       [5, 6, 7, 8, 9]])"
      ]
     },
     "execution_count": 3,
     "metadata": {},
     "output_type": "execute_result"
    }
   ],
   "source": [
    "df.to_numpy()"
   ]
  },
  {
   "cell_type": "code",
   "execution_count": null,
   "id": "1decacb8",
   "metadata": {},
   "outputs": [],
   "source": [
    " Q2. What can go wrong when an user enters in a stock-ticker symbol, and how do you handle it?"
   ]
  },
  {
   "cell_type": "code",
   "execution_count": null,
   "id": "169afa65",
   "metadata": {},
   "outputs": [],
   "source": [
    "When users enter a stock ticker symbol, various issues can arise, and it's essential to handle these situations to ensure a \n",
    "robust and user-friendly application. Here are some potential issues and ways to handle them:\n",
    "    \n",
    "    \n",
    "When users enter a stock ticker symbol, various issues can arise, and it's essential to handle these situations to ensure a \n",
    "robust and user-friendly application. Here are some potential issues and ways to handle them:\n",
    "\n",
    "    Invalid Ticker Symbol:\n",
    "\n",
    "Issue: Users might enter an incorrect or invalid stock ticker symbol.\n",
    "Handling: Validate the entered symbol against a known list of valid stock symbols or use an API to check the validity. Provide\n",
    "appropriate feedback to the user if the entered symbol is invalid.\n",
    "\n",
    "    Case Sensitivity:\n",
    "\n",
    "Issue: Ticker symbols are often case-insensitive, but users might enter them with incorrect case.\n",
    "Handling: Convert the entered symbol to uppercase or lowercase to ensure consistency and avoid case-related issues.\n",
    "\n",
    "    Missing Ticker Symbol:\n",
    "\n",
    "Issue: Users might submit the form without entering any symbol.\n",
    "Handling: Implement client-side or server-side validation to ensure that a symbol is entered before processing the request. \n",
    "    Provide a clear error message if the symbol is missing."
   ]
  },
  {
   "cell_type": "code",
   "execution_count": null,
   "id": "3415d5cf",
   "metadata": {},
   "outputs": [],
   "source": [
    "Q3. Identify some of the plotting techniques that are used to produce a stock-market chart."
   ]
  },
  {
   "cell_type": "code",
   "execution_count": null,
   "id": "4f4cee18",
   "metadata": {},
   "outputs": [],
   "source": [
    "LINE CHART\n",
    "POINT AND FIGURE CHART\n",
    "CANDLESTICK CHART\n",
    "BAR CHART"
   ]
  },
  {
   "cell_type": "code",
   "execution_count": null,
   "id": "64b6e524",
   "metadata": {},
   "outputs": [],
   "source": [
    "Q4. Why is it essential to print a legend on a stock market chart?"
   ]
  },
  {
   "cell_type": "code",
   "execution_count": null,
   "id": "f0029bee",
   "metadata": {},
   "outputs": [],
   "source": [
    "Legends adds a beauty to visualize the trend of data w.r.t. different features. It creates the different trend in different \n",
    "colors indicating that which is belong to which trend is belong to which feature."
   ]
  },
  {
   "cell_type": "code",
   "execution_count": null,
   "id": "8a66784b",
   "metadata": {},
   "outputs": [],
   "source": [
    "Q5. What is the best way to limit the length of a pandas data frame to less than a year?"
   ]
  },
  {
   "cell_type": "code",
   "execution_count": null,
   "id": "c2f87b0f",
   "metadata": {},
   "outputs": [],
   "source": [
    "We can use start and end parameters for that. In start we write the date from where we are starting and at the end we write the\n",
    "end date. SO within this span we can restric the duration. Also we can use the parameters  like periods for how much times we\n",
    "need the duration and we can also use the frequency parameter."
   ]
  },
  {
   "cell_type": "code",
   "execution_count": null,
   "id": "03fe1673",
   "metadata": {},
   "outputs": [],
   "source": [
    "Q6. What is the definition of a 180-day moving average?"
   ]
  },
  {
   "cell_type": "code",
   "execution_count": null,
   "id": "90a3a671",
   "metadata": {},
   "outputs": [],
   "source": [
    "Moving Averages help to filter out market noise and smooth out fluctuations in price. In statistics, a moving average is a \n",
    "calculation used to analyze data points by creating a series of averages of different subsets of  the full data set. 180-day \n",
    "moving average means A simple moving average (SMA) is a arithmetic mean of a given  set of prices over the 180 days in the past"
   ]
  },
  {
   "cell_type": "code",
   "execution_count": null,
   "id": "679d2751",
   "metadata": {},
   "outputs": [],
   "source": []
  }
 ],
 "metadata": {
  "kernelspec": {
   "display_name": "Python 3 (ipykernel)",
   "language": "python",
   "name": "python3"
  },
  "language_info": {
   "codemirror_mode": {
    "name": "ipython",
    "version": 3
   },
   "file_extension": ".py",
   "mimetype": "text/x-python",
   "name": "python",
   "nbconvert_exporter": "python",
   "pygments_lexer": "ipython3",
   "version": "3.10.9"
  }
 },
 "nbformat": 4,
 "nbformat_minor": 5
}
