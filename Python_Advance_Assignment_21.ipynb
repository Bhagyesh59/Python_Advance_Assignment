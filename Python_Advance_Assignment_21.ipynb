{
 "cells": [
  {
   "cell_type": "code",
   "execution_count": null,
   "id": "5bf2626b",
   "metadata": {},
   "outputs": [],
   "source": [
    "Q1. What is a probability distribution, exactly? If the values are meant to be random, how can you predict them at all?"
   ]
  },
  {
   "cell_type": "code",
   "execution_count": null,
   "id": "cfa03d05",
   "metadata": {},
   "outputs": [],
   "source": [
    "A probability distribution describes how a random variable is distributed,it tells us which values a random variable is most \n",
    "likely to take on and which values are less likely.Based on the previous data and the occurences of the random event, we can \n",
    "predict the outcome in terms of probabilities."
   ]
  },
  {
   "cell_type": "code",
   "execution_count": null,
   "id": "080bc357",
   "metadata": {},
   "outputs": [],
   "source": [
    "Q2. Is there a distinction between true random numbers and pseudo-random numbers, if there is one? Why are the latter considered “good enough”?"
   ]
  },
  {
   "cell_type": "code",
   "execution_count": null,
   "id": "c0235275",
   "metadata": {},
   "outputs": [],
   "source": [
    "The difference between true random number(TRN) and pseudo-random number(PRN), is that TRN's are unpredictable physical values \n",
    "means (like atmospheric noise), and PRN are generated using mathematical algorithms (completely computer-generated).The PRN's\n",
    "are good enough as they follow a uniform distribution and the seed for generating PRN is unpredictable and unknown."
   ]
  },
  {
   "cell_type": "code",
   "execution_count": null,
   "id": "d9078e50",
   "metadata": {},
   "outputs": [],
   "source": [
    "Q3. What are the two main factors that influence the behaviour of a &quot;normal&quot; probability distribution?"
   ]
  },
  {
   "cell_type": "code",
   "execution_count": null,
   "id": "5e938e13",
   "metadata": {},
   "outputs": [],
   "source": [
    "A normal distribution is determined by two parameters the mean and the variance. A normal distribution with a mean of 0 and a \n",
    "standard deviation of 1 is called a standard normal distribution."
   ]
  },
  {
   "cell_type": "code",
   "execution_count": null,
   "id": "6b8d8bad",
   "metadata": {},
   "outputs": [],
   "source": [
    "Q4. Provide a real-life example of a normal distribution."
   ]
  },
  {
   "cell_type": "code",
   "execution_count": null,
   "id": "94500e8b",
   "metadata": {},
   "outputs": [],
   "source": [
    " A fair rolling of dice is also a good example of normal distribution."
   ]
  },
  {
   "cell_type": "code",
   "execution_count": null,
   "id": "b3d22f36",
   "metadata": {},
   "outputs": [],
   "source": [
    "Q5. In the short term, how can you expect a probability distribution to behave? What do you think will happen as the number of trials grows?"
   ]
  },
  {
   "cell_type": "code",
   "execution_count": null,
   "id": "a58b892f",
   "metadata": {},
   "outputs": [],
   "source": [
    "When trails are less, the variance will large. As the number of trials increase , the variance will reduce."
   ]
  },
  {
   "cell_type": "code",
   "execution_count": null,
   "id": "21e5b92e",
   "metadata": {},
   "outputs": [],
   "source": [
    "Q6. What kind of object can be shuffled by using random.shuffle?"
   ]
  },
  {
   "cell_type": "code",
   "execution_count": null,
   "id": "6f7aa482",
   "metadata": {},
   "outputs": [],
   "source": [
    "random.shuffle can used to shuffle list object"
   ]
  },
  {
   "cell_type": "code",
   "execution_count": null,
   "id": "17d86780",
   "metadata": {},
   "outputs": [],
   "source": [
    "Q7. Describe the math package&#39;s general categories of functions."
   ]
  },
  {
   "cell_type": "code",
   "execution_count": null,
   "id": "c5d4f098",
   "metadata": {},
   "outputs": [],
   "source": [
    "The general categories of math package are\n",
    "       1)Trigonometric functions\n",
    "       2)Quadratic functions\n",
    "       3)Exponential functions\n",
    "       4)Hyperbolic functions\n",
    "       5)Periodic functions\n",
    "       6)Arithmetic functions\n",
    "       7)Logarithimic functions\n",
    "       8)Conversions to Integer"
   ]
  },
  {
   "cell_type": "code",
   "execution_count": null,
   "id": "2638d0e7",
   "metadata": {},
   "outputs": [],
   "source": [
    "Q8. What is the relationship between exponentiation and logarithms?"
   ]
  },
  {
   "cell_type": "code",
   "execution_count": null,
   "id": "745d6f6c",
   "metadata": {},
   "outputs": [],
   "source": [
    "The exponential function is given by ƒ(x) = ex, whereas the logarithmic function is given by g(x) = ln x, and former is the \n",
    "inverse of the latter."
   ]
  },
  {
   "cell_type": "code",
   "execution_count": null,
   "id": "0e52b0d1",
   "metadata": {},
   "outputs": [],
   "source": [
    "Q9. What are the three logarithmic functions that Python supports?"
   ]
  },
  {
   "cell_type": "code",
   "execution_count": null,
   "id": "b81d5578",
   "metadata": {},
   "outputs": [],
   "source": [
    "1)log2(x) - logarithmic value of x to base 2\n",
    "2)log10(x) - logarithmic value of x to base 10\n",
    "3)log(x,base) - logarithmic value of x to base. If only first parameter is given , it computes its value tp base e,natural \n",
    "  logarithm\n",
    "4)log1p(x) - natural logarithm (base e) value of 1+x"
   ]
  },
  {
   "cell_type": "code",
   "execution_count": null,
   "id": "39cbc2a1",
   "metadata": {},
   "outputs": [],
   "source": []
  }
 ],
 "metadata": {
  "kernelspec": {
   "display_name": "Python 3 (ipykernel)",
   "language": "python",
   "name": "python3"
  },
  "language_info": {
   "codemirror_mode": {
    "name": "ipython",
    "version": 3
   },
   "file_extension": ".py",
   "mimetype": "text/x-python",
   "name": "python",
   "nbconvert_exporter": "python",
   "pygments_lexer": "ipython3",
   "version": "3.10.9"
  }
 },
 "nbformat": 4,
 "nbformat_minor": 5
}
