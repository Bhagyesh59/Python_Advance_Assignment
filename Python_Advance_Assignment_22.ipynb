{
 "cells": [
  {
   "cell_type": "code",
   "execution_count": null,
   "id": "2b35ee91",
   "metadata": {},
   "outputs": [],
   "source": [
    "Q1. What are the benefits of the built-in array package, if any?"
   ]
  },
  {
   "cell_type": "code",
   "execution_count": null,
   "id": "22ab02cd",
   "metadata": {},
   "outputs": [],
   "source": [
    "Arrays represent multiple data items of the same type using a single name.In arrays, the elements can be accessed randomly by\n",
    "using the index number. Arrays allocate memory in contiguous memory locations for all its elements. Hence there is no chance of \n",
    "extra memory being allocated in case of arrays. This avoids memory overflow or shortage of memory in arrays."
   ]
  },
  {
   "cell_type": "code",
   "execution_count": null,
   "id": "7b90ee30",
   "metadata": {},
   "outputs": [],
   "source": [
    "Q2. What are some of the array package's limitations?"
   ]
  },
  {
   "cell_type": "code",
   "execution_count": null,
   "id": "0a47a681",
   "metadata": {},
   "outputs": [],
   "source": [
    "The number of elements to be stored in an array should be known in advance. An array is a static structure (which means the array\n",
    "is of fixed size). Once declared the size of the array cannot be modified. The memory  which is allocated to it cannot be \n",
    "increased or decreased. Insertion and deletion are quite difficult in an array as the elements are stored in consecutive memory\n",
    "locations and the shifting operation is costly.  Allocating more memory than the requirement leads to wastage of memory space \n",
    "and less allocation of memory also leads to a problem."
   ]
  },
  {
   "cell_type": "code",
   "execution_count": null,
   "id": "a8fccd15",
   "metadata": {},
   "outputs": [],
   "source": [
    "Q3. Describe the main differences between the array and numpy packages."
   ]
  },
  {
   "cell_type": "code",
   "execution_count": null,
   "id": "2ad9e8e4",
   "metadata": {},
   "outputs": [],
   "source": [
    "The array package doesn't provide any help with numerical calculation with the items insdie it in number form while NumPy give \n",
    "you a wide variety of numerical operations. An array is a single dimensional entity which hold the numerical data, while numpy \n",
    "can have more than 1 dimension.In case of array, item can be accessed by its index position and it is easy task while in numpy \n",
    "item is accessed by its column and row index, which makes it slightly time taking. Same goes with appending operation.In case of\n",
    "array we do not form a tabular structure, while in numpy it forms a tabular structure."
   ]
  },
  {
   "cell_type": "code",
   "execution_count": null,
   "id": "0ba51fd6",
   "metadata": {},
   "outputs": [],
   "source": [
    "Q4. Explain the distinctions between the empty, ones, and zeros functions."
   ]
  },
  {
   "cell_type": "code",
   "execution_count": null,
   "id": "5ba4113d",
   "metadata": {},
   "outputs": [],
   "source": [
    "Empty function: An empty function is a function that does not contain any statement within its body. If you try to write a\n",
    "function definition without any statement in python ,it will return an error. To avoid this, we use pass statement. pass is a \n",
    "special statement in Python that does nothing. It only works as a dummy statement ones: This function returns a new array of \n",
    "given shape and data type, where the element’s value is 1. zeros: This function returns a new array of given shape and data \n",
    "type, where the element’s value is 0"
   ]
  },
  {
   "cell_type": "code",
   "execution_count": null,
   "id": "3a2775f5",
   "metadata": {},
   "outputs": [],
   "source": [
    "Q5. In the fromfunction function, which is used to construct new arrays, what is the role of the callable argument?"
   ]
  },
  {
   "cell_type": "code",
   "execution_count": null,
   "id": "f194d753",
   "metadata": {},
   "outputs": [],
   "source": [
    "Its function is to execute the function over each coordinate and the resulting array. The function is called with N parameters,\n",
    "where N is the rank of shape. Each parameter represents the coordinates of the array varying along a specific axis."
   ]
  },
  {
   "cell_type": "code",
   "execution_count": null,
   "id": "1ed21f93",
   "metadata": {},
   "outputs": [],
   "source": [
    "Q6. What happens when a numpy array is combined with a single-value operand (a scalar, such as an int or a floating-point value) through addition, as in the expression A + n?"
   ]
  },
  {
   "cell_type": "code",
   "execution_count": 1,
   "id": "792e4287",
   "metadata": {},
   "outputs": [
    {
     "name": "stdout",
     "output_type": "stream",
     "text": [
      "[[0 1 2]\n",
      " [3 4 5]\n",
      " [6 7 8]]\n",
      "\n",
      "[[1 2 3]\n",
      " [4 5 6]\n",
      " [7 8 9]]\n"
     ]
    }
   ],
   "source": [
    "#       If any scaler value such as integer is added to the numpy array then all the elements inside the array \n",
    "#       will add that value in it.\n",
    "#       Example :\n",
    "import numpy as np\n",
    "a=np.arange(9).reshape(3,3)\n",
    "print(a)\n",
    "print()\n",
    "print(a+1)"
   ]
  },
  {
   "cell_type": "code",
   "execution_count": null,
   "id": "f6992fdb",
   "metadata": {},
   "outputs": [],
   "source": [
    "Q7. Can array-to-scalar operations use combined operation-assign operators (such as += or *=)? What is the outcome?"
   ]
  },
  {
   "cell_type": "code",
   "execution_count": null,
   "id": "9b1f6928",
   "metadata": {},
   "outputs": [],
   "source": [
    "It will do the operation as per operators. Like if we use + operand it will update the current array by adding and when we use\n",
    "'*', it will update by multiplying"
   ]
  },
  {
   "cell_type": "code",
   "execution_count": 2,
   "id": "fc306cf8",
   "metadata": {},
   "outputs": [
    {
     "name": "stdout",
     "output_type": "stream",
     "text": [
      "[[0 1 2]\n",
      " [3 4 5]\n",
      " [6 7 8]]\n"
     ]
    }
   ],
   "source": [
    "# Example :\n",
    "print(a)"
   ]
  },
  {
   "cell_type": "code",
   "execution_count": 3,
   "id": "03883dac",
   "metadata": {},
   "outputs": [
    {
     "name": "stdout",
     "output_type": "stream",
     "text": [
      "[[1 2 3]\n",
      " [4 5 6]\n",
      " [7 8 9]]\n"
     ]
    }
   ],
   "source": [
    "a+=1\n",
    "print(a)"
   ]
  },
  {
   "cell_type": "code",
   "execution_count": 4,
   "id": "4b541045",
   "metadata": {},
   "outputs": [
    {
     "name": "stdout",
     "output_type": "stream",
     "text": [
      "[[ 2  4  6]\n",
      " [ 8 10 12]\n",
      " [14 16 18]]\n"
     ]
    }
   ],
   "source": [
    "a*=2\n",
    "print(a)"
   ]
  },
  {
   "cell_type": "code",
   "execution_count": null,
   "id": "ee14d110",
   "metadata": {},
   "outputs": [],
   "source": [
    "Q8. Does a numpy array contain fixed-length strings? What happens if you allocate a longer string to one of these arrays?"
   ]
  },
  {
   "cell_type": "code",
   "execution_count": 28,
   "id": "c575bf71",
   "metadata": {},
   "outputs": [
    {
     "data": {
      "text/plain": [
       "array(['kalpesh', 'jayesh', 'bhuvan'], dtype='<U7')"
      ]
     },
     "execution_count": 28,
     "metadata": {},
     "output_type": "execute_result"
    }
   ],
   "source": [
    "#       Yes it is possible that we can include a string of fixed length in numpy array. The dtype of any numpy array \n",
    "#       containing string values is the maximum length of any string present in the array.\n",
    "#       Once set, it will only be able to store new string having length not more than the maximum length at the time \n",
    "#       of the creation. If we try to reassign some another string value having length greater than the maximum length\n",
    "#       of the existing elements, it simply discards all the values beyond the maximum length accept upto those values \n",
    "#       which are under the limit.\n",
    "import numpy as np\n",
    "name = np.array(['kalpesh', 'jayesh', 'bhuvan'])\n",
    "name"
   ]
  },
  {
   "cell_type": "code",
   "execution_count": 30,
   "id": "bdf23d6e",
   "metadata": {},
   "outputs": [
    {
     "name": "stdout",
     "output_type": "stream",
     "text": [
      "['kalpesh' 'bhu' 'bhuvan']\n"
     ]
    }
   ],
   "source": [
    "name[name=='jayesh']='bhu'\n",
    "print(name)"
   ]
  },
  {
   "cell_type": "code",
   "execution_count": null,
   "id": "4c7ff835",
   "metadata": {},
   "outputs": [],
   "source": [
    "Q9. What happens when you combine two numpy arrays using an operation like addition (+) or multiplication (*)? What are the conditions for combining two numpy arrays?"
   ]
  },
  {
   "cell_type": "code",
   "execution_count": 9,
   "id": "1c628f8f",
   "metadata": {},
   "outputs": [
    {
     "data": {
      "text/plain": [
       "array([[ 2,  4,  6],\n",
       "       [ 8, 10, 12],\n",
       "       [14, 16, 18]])"
      ]
     },
     "execution_count": 9,
     "metadata": {},
     "output_type": "execute_result"
    }
   ],
   "source": [
    "#      It will simply add or multiply element to element at same position.The only requirement which must be met are:\n",
    "#      1)Data type should be same.\n",
    "#      2) Shape of the two matrices must be same\n",
    "#      Example is as follows :\n",
    "a1=a\n",
    "a1"
   ]
  },
  {
   "cell_type": "code",
   "execution_count": 10,
   "id": "27f3f031",
   "metadata": {},
   "outputs": [
    {
     "data": {
      "text/plain": [
       "array([[ 4,  6,  8],\n",
       "       [10, 12, 14],\n",
       "       [16, 18, 20]])"
      ]
     },
     "execution_count": 10,
     "metadata": {},
     "output_type": "execute_result"
    }
   ],
   "source": [
    "a2=a+2\n",
    "a2"
   ]
  },
  {
   "cell_type": "code",
   "execution_count": 11,
   "id": "6dfc961d",
   "metadata": {},
   "outputs": [
    {
     "data": {
      "text/plain": [
       "array([[ 6, 10, 14],\n",
       "       [18, 22, 26],\n",
       "       [30, 34, 38]])"
      ]
     },
     "execution_count": 11,
     "metadata": {},
     "output_type": "execute_result"
    }
   ],
   "source": [
    "a1+a2"
   ]
  },
  {
   "cell_type": "code",
   "execution_count": 12,
   "id": "cd66a207",
   "metadata": {},
   "outputs": [
    {
     "data": {
      "text/plain": [
       "array([[  8,  24,  48],\n",
       "       [ 80, 120, 168],\n",
       "       [224, 288, 360]])"
      ]
     },
     "execution_count": 12,
     "metadata": {},
     "output_type": "execute_result"
    }
   ],
   "source": [
    "a1*a2"
   ]
  },
  {
   "cell_type": "code",
   "execution_count": 13,
   "id": "f336bb3c",
   "metadata": {},
   "outputs": [
    {
     "ename": "ValueError",
     "evalue": "operands could not be broadcast together with shapes (3,3) (9,1) ",
     "output_type": "error",
     "traceback": [
      "\u001b[1;31m---------------------------------------------------------------------------\u001b[0m",
      "\u001b[1;31mValueError\u001b[0m                                Traceback (most recent call last)",
      "Cell \u001b[1;32mIn[13], line 1\u001b[0m\n\u001b[1;32m----> 1\u001b[0m \u001b[43ma1\u001b[49m\u001b[38;5;241;43m+\u001b[39;49m\u001b[43ma2\u001b[49m\u001b[38;5;241;43m.\u001b[39;49m\u001b[43mreshape\u001b[49m\u001b[43m(\u001b[49m\u001b[38;5;241;43m9\u001b[39;49m\u001b[43m,\u001b[49m\u001b[38;5;241;43m1\u001b[39;49m\u001b[43m)\u001b[49m\n",
      "\u001b[1;31mValueError\u001b[0m: operands could not be broadcast together with shapes (3,3) (9,1) "
     ]
    }
   ],
   "source": [
    "a1+a2.reshape(9,1)"
   ]
  },
  {
   "cell_type": "code",
   "execution_count": 14,
   "id": "19afd1c5",
   "metadata": {},
   "outputs": [
    {
     "ename": "ValueError",
     "evalue": "operands could not be broadcast together with shapes (3,3) (9,1) ",
     "output_type": "error",
     "traceback": [
      "\u001b[1;31m---------------------------------------------------------------------------\u001b[0m",
      "\u001b[1;31mValueError\u001b[0m                                Traceback (most recent call last)",
      "Cell \u001b[1;32mIn[14], line 1\u001b[0m\n\u001b[1;32m----> 1\u001b[0m \u001b[43ma1\u001b[49m\u001b[38;5;241;43m*\u001b[39;49m\u001b[43ma2\u001b[49m\u001b[38;5;241;43m.\u001b[39;49m\u001b[43mreshape\u001b[49m\u001b[43m(\u001b[49m\u001b[38;5;241;43m9\u001b[39;49m\u001b[43m,\u001b[49m\u001b[38;5;241;43m1\u001b[39;49m\u001b[43m)\u001b[49m\n",
      "\u001b[1;31mValueError\u001b[0m: operands could not be broadcast together with shapes (3,3) (9,1) "
     ]
    }
   ],
   "source": [
    "a1*a2.reshape(9,1)"
   ]
  },
  {
   "cell_type": "code",
   "execution_count": null,
   "id": "3b583977",
   "metadata": {},
   "outputs": [],
   "source": [
    "Q10. What is the best way to use a Boolean array to mask another array?"
   ]
  },
  {
   "cell_type": "code",
   "execution_count": 17,
   "id": "451c31c4",
   "metadata": {},
   "outputs": [
    {
     "name": "stdout",
     "output_type": "stream",
     "text": [
      "[True, True, masked, masked]\n",
      "1\n"
     ]
    }
   ],
   "source": [
    "y = np.array([True,True,False,True])          \n",
    "x = np.array([1,2,3,4])         \n",
    "m = np.ma.masked_where(x>2,y)  \n",
    "print(list(m))\n",
    "print(m.ndim)"
   ]
  },
  {
   "cell_type": "code",
   "execution_count": null,
   "id": "355f67e1",
   "metadata": {},
   "outputs": [],
   "source": [
    "Q11. What are three different ways to get the standard deviation of a wide collection of data using both standard Python and its packages? Sort the three of them by how quickly they execute."
   ]
  },
  {
   "cell_type": "code",
   "execution_count": null,
   "id": "4180be2e",
   "metadata": {},
   "outputs": [],
   "source": [
    "Standard deviation can be calculated in amny ways. If wee see the formula of SD, it says \n",
    "std= Square Root of [ Summation of [square of (x-mean)/number of observation] ] .\n",
    "So this can be achive by:"
   ]
  },
  {
   "cell_type": "code",
   "execution_count": 27,
   "id": "b653360b",
   "metadata": {},
   "outputs": [],
   "source": [
    "# 1)Using statistics module :\n",
    "import statistics\n",
    "\n",
    "data = [1, 2, 3, 4, 5, 6, 7, 8, 9, 10]\n",
    "\n",
    "std_dev_stdlib = statistics.stdev(data)\n"
   ]
  },
  {
   "cell_type": "code",
   "execution_count": 25,
   "id": "b887a4b9",
   "metadata": {},
   "outputs": [],
   "source": [
    "#2)Using Numpy Array package\n",
    "import numpy as np\n",
    "\n",
    "data = [1, 2, 3, 4, 5, 6, 7, 8, 9, 10]\n",
    "\n",
    "std_dev_np = np.std(data)\n"
   ]
  },
  {
   "cell_type": "code",
   "execution_count": 26,
   "id": "defae046",
   "metadata": {},
   "outputs": [],
   "source": [
    "#3) General calculation without using any package\n",
    "data = [1, 2, 3, 4, 5, 6, 7, 8, 9, 10]\n",
    "\n",
    "mean = sum(data) / len(data)\n",
    "variance = sum((x - mean) ** 2 for x in data) / len(data)\n",
    "std_dev_manual = variance ** 0.5\n"
   ]
  }
 ],
 "metadata": {
  "kernelspec": {
   "display_name": "Python 3 (ipykernel)",
   "language": "python",
   "name": "python3"
  },
  "language_info": {
   "codemirror_mode": {
    "name": "ipython",
    "version": 3
   },
   "file_extension": ".py",
   "mimetype": "text/x-python",
   "name": "python",
   "nbconvert_exporter": "python",
   "pygments_lexer": "ipython3",
   "version": "3.10.9"
  }
 },
 "nbformat": 4,
 "nbformat_minor": 5
}
