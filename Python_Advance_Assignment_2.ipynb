{
 "cells": [
  {
   "cell_type": "code",
   "execution_count": null,
   "id": "c271558b",
   "metadata": {},
   "outputs": [],
   "source": [
    "Q1. What is the relationship between classes and modules?"
   ]
  },
  {
   "cell_type": "code",
   "execution_count": null,
   "id": "f5347b13",
   "metadata": {},
   "outputs": [],
   "source": [
    "Modules are about providing methods that you can use across multiple classes. Modules are about functions. You dont instantiate\n",
    "modules(e.g. Math module) you just use methods in them.Module is like library of methods. \n",
    "Classes are about objects; it can hold its state (by keeping track of instance variables) and be duplicated as many times as\n",
    "you want. "
   ]
  },
  {
   "cell_type": "code",
   "execution_count": null,
   "id": "7b3e1629",
   "metadata": {},
   "outputs": [],
   "source": [
    "Q2. How do you make instances and classes?"
   ]
  },
  {
   "cell_type": "code",
   "execution_count": null,
   "id": "c0808cd6",
   "metadata": {},
   "outputs": [],
   "source": [
    "To create instances of a class, you call the class using class name and pass in whatever arguments its __init__ method accepts.\n",
    "    \n",
    "The class statement creates a new class definition. The name of the class immediately follows the keyword class followed by a \n",
    "colon.Explained below "
   ]
  },
  {
   "cell_type": "code",
   "execution_count": 1,
   "id": "52486665",
   "metadata": {},
   "outputs": [
    {
     "name": "stdout",
     "output_type": "stream",
     "text": [
      "This is Bhagyesh Shinde (an instance of a class Student)\n"
     ]
    }
   ],
   "source": [
    "class Student:\n",
    "    def __init__(self,name):\n",
    "        self.name = name\n",
    "    \n",
    "    def __str__(self):\n",
    "        return f\"This is {self.name} (an instance of a class Student)\"\n",
    "    \n",
    "student1 = Student(\"Bhagyesh Shinde\")       \n",
    "print(student1)"
   ]
  },
  {
   "cell_type": "code",
   "execution_count": null,
   "id": "3211bc03",
   "metadata": {},
   "outputs": [],
   "source": [
    "Q3. Where and how should be class attributes created?"
   ]
  },
  {
   "cell_type": "code",
   "execution_count": null,
   "id": "b6fce171",
   "metadata": {},
   "outputs": [],
   "source": [
    "Class attributes belong to the class itself they will be shared by all the instances. Such attributes are defined in the class \n",
    "body parts usually at the top, for legibility."
   ]
  },
  {
   "cell_type": "code",
   "execution_count": 2,
   "id": "909ce0bb",
   "metadata": {},
   "outputs": [
    {
     "name": "stdout",
     "output_type": "stream",
     "text": [
      "Pradeep\n"
     ]
    }
   ],
   "source": [
    "class Student:\n",
    "    class_teacher = 'Pradeep' # class attribute\n",
    "    \n",
    "    def __init__(self,name, roll_no): # to bind attributes to class when object is created\n",
    "        self.name = name \n",
    "        self.roll_no = roll_no\n",
    "    \n",
    "    def __str__(self):\n",
    "        return f\"This is {self.name} (an instance of a class Student)\"\n",
    "    \n",
    "student1 = Student(\"Bhagyesh Shinde\",25)  \n",
    "\n",
    "print(student1.class_teacher) \n",
    "\n"
   ]
  },
  {
   "cell_type": "code",
   "execution_count": null,
   "id": "89f0fe3f",
   "metadata": {},
   "outputs": [],
   "source": [
    "Q4. Where and how are instance attributes created?"
   ]
  },
  {
   "cell_type": "code",
   "execution_count": null,
   "id": "8df8f6e5",
   "metadata": {},
   "outputs": [],
   "source": [
    "Unlike class attributes, instance attributes are not shared by objects. Every object has its own copy of the instance attribute.\n",
    "They are created in __init__ method. "
   ]
  },
  {
   "cell_type": "code",
   "execution_count": 4,
   "id": "08bd4d16",
   "metadata": {},
   "outputs": [
    {
     "name": "stdout",
     "output_type": "stream",
     "text": [
      "Bhagyesh Shinde\n",
      "54\n"
     ]
    }
   ],
   "source": [
    "class Student:\n",
    "    def __init__(self,name, roll_no): # to bind attributes to class when object is created\n",
    "        self.name = name \n",
    "        self.roll_no = roll_no\n",
    "    \n",
    "    def __str__(self):\n",
    "        return f\"This is {self.name} (an instance of a class Student)\"\n",
    "    \n",
    "student1 = Student(\"Bhagyesh Shinde\",54)  \n",
    "\n",
    "print(student1.name) # attributes are accessed by objects\n",
    "print(student1.roll_no)"
   ]
  },
  {
   "cell_type": "code",
   "execution_count": null,
   "id": "3b855349",
   "metadata": {},
   "outputs": [],
   "source": [
    "Q5. What does the term &quot;self&quot; in a Python class mean?"
   ]
  },
  {
   "cell_type": "code",
   "execution_count": null,
   "id": "497b0036",
   "metadata": {},
   "outputs": [],
   "source": [
    "Self represents the instance of the class. By using the “self” keyword we can access the attributes and methods of the class \n",
    "in python. It binds the attributes with the given arguments.The reason you need to use self. is because Python does not use the \n",
    "@ syntax to refer to instance attributes. Python decided to do methods in a way that makes the instance to which the method \n",
    "belongs be passed automatically, but not received automatically. the first parameter of methods is the instance the method is \n",
    "called on."
   ]
  },
  {
   "cell_type": "code",
   "execution_count": null,
   "id": "2e57cfb0",
   "metadata": {},
   "outputs": [],
   "source": [
    "Q6. How does a Python class handle operator overloading?"
   ]
  },
  {
   "cell_type": "code",
   "execution_count": null,
   "id": "0b9cb56c",
   "metadata": {},
   "outputs": [],
   "source": [
    "Operator Overloading means giving extended meaning beyond their predefined operational meaning. For example operator + is \n",
    "used to add two integers as well as join two strings and merge two lists. It is achievable because ‘+’ operator is overloaded \n",
    "by int class and str class. "
   ]
  },
  {
   "cell_type": "code",
   "execution_count": 5,
   "id": "00914b72",
   "metadata": {},
   "outputs": [
    {
     "name": "stdout",
     "output_type": "stream",
     "text": [
      "3\n",
      "abcdefg\n",
      "39\n",
      "IneuronIneuronIneuronIneuron\n"
     ]
    }
   ],
   "source": [
    "# + and * operator is used for different purpose\n",
    "\n",
    "print(1 + 2)\n",
    " \n",
    "# concatenate two strings\n",
    "print(\"abcd\"+\"efg\")\n",
    " \n",
    "# Product two numbers\n",
    "print(13 * 3)\n",
    " \n",
    "# Repeat the String\n",
    "print(\"Ineuron\"*4)"
   ]
  },
  {
   "cell_type": "code",
   "execution_count": null,
   "id": "4788137e",
   "metadata": {},
   "outputs": [],
   "source": [
    "Q7. When do you consider allowing operator overloading of your classes?"
   ]
  },
  {
   "cell_type": "code",
   "execution_count": null,
   "id": "bbc329f0",
   "metadata": {},
   "outputs": [],
   "source": [
    "Let us assumewe have an object called string1 which is a string object as defined below. Now, when we try to add a string to \n",
    "this string object, the compiler will throw an error. This is because the compiler doesn't know how to add them. "
   ]
  },
  {
   "cell_type": "code",
   "execution_count": 6,
   "id": "b0dc25ca",
   "metadata": {},
   "outputs": [
    {
     "ename": "TypeError",
     "evalue": "unsupported operand type(s) for +: 'String' and 'str'",
     "output_type": "error",
     "traceback": [
      "\u001b[1;31m---------------------------------------------------------------------------\u001b[0m",
      "\u001b[1;31mTypeError\u001b[0m                                 Traceback (most recent call last)",
      "Cell \u001b[1;32mIn[6], line 11\u001b[0m\n\u001b[0;32m      8\u001b[0m string1 \u001b[38;5;241m=\u001b[39m String(\u001b[38;5;124m'\u001b[39m\u001b[38;5;124mHello\u001b[39m\u001b[38;5;124m'\u001b[39m)    \n\u001b[0;32m     10\u001b[0m \u001b[38;5;66;03m# concatenate String object and a string\u001b[39;00m\n\u001b[1;32m---> 11\u001b[0m \u001b[38;5;28mprint\u001b[39m(\u001b[43mstring1\u001b[49m\u001b[43m \u001b[49m\u001b[38;5;241;43m+\u001b[39;49m\u001b[38;5;124;43m'\u001b[39;49m\u001b[38;5;124;43m world\u001b[39;49m\u001b[38;5;124;43m'\u001b[39;49m)\n",
      "\u001b[1;31mTypeError\u001b[0m: unsupported operand type(s) for +: 'String' and 'str'"
     ]
    }
   ],
   "source": [
    "# declare our own string class\n",
    "class String:\n",
    "    def __init__(self, string):\n",
    "            self.string = string         \n",
    "    def __repr__(self):\n",
    "        return 'Object: {}'.format(self.string)\n",
    "\n",
    "string1 = String('Hello')    \n",
    "\n",
    "# concatenate String object and a string\n",
    "print(string1 +' world')"
   ]
  },
  {
   "cell_type": "code",
   "execution_count": null,
   "id": "3d98b114",
   "metadata": {},
   "outputs": [],
   "source": [
    "This error can be avoided by adding the __ add__ method to the String class. This way, we are overloading the + operator to \n",
    "concatenate a string object with a string."
   ]
  },
  {
   "cell_type": "code",
   "execution_count": 7,
   "id": "e61358c1",
   "metadata": {},
   "outputs": [
    {
     "name": "stdout",
     "output_type": "stream",
     "text": [
      "Hello world\n"
     ]
    }
   ],
   "source": [
    "# declare our own string class\n",
    "class String:\n",
    "    def __init__(self, string):\n",
    "            self.string = string         \n",
    "                \n",
    "    def __add__(self, other):\n",
    "          return self.string + other\n",
    "            \n",
    "    def __repr__(self):\n",
    "        return 'Object: {}'.format(self.string)\n",
    "\n",
    "string1 = String('Hello')    \n",
    "\n",
    "# concatenate String object and a string\n",
    "print(string1 +' world')"
   ]
  },
  {
   "cell_type": "code",
   "execution_count": null,
   "id": "86e166b1",
   "metadata": {},
   "outputs": [],
   "source": [
    "Q8. What is the most popular form of operator overloading?"
   ]
  },
  {
   "cell_type": "code",
   "execution_count": null,
   "id": "12541b72",
   "metadata": {},
   "outputs": [],
   "source": [
    "I feel, most popular form of operator overloading is of addition (+) operator. When two integers are passed to + operator, \n",
    "it will return the sum of two integers. When two strings are passed to + operator, it will return concatenation of two strings."
   ]
  },
  {
   "cell_type": "code",
   "execution_count": null,
   "id": "d17cea6b",
   "metadata": {},
   "outputs": [],
   "source": [
    "Q9. What are the two most important concepts to grasp in order to comprehend Python OOP code?"
   ]
  },
  {
   "cell_type": "code",
   "execution_count": null,
   "id": "f27a1428",
   "metadata": {},
   "outputs": [],
   "source": [
    "1. Inheritance.\n",
    "2. Polymorphism."
   ]
  }
 ],
 "metadata": {
  "kernelspec": {
   "display_name": "Python 3 (ipykernel)",
   "language": "python",
   "name": "python3"
  },
  "language_info": {
   "codemirror_mode": {
    "name": "ipython",
    "version": 3
   },
   "file_extension": ".py",
   "mimetype": "text/x-python",
   "name": "python",
   "nbconvert_exporter": "python",
   "pygments_lexer": "ipython3",
   "version": "3.10.9"
  }
 },
 "nbformat": 4,
 "nbformat_minor": 5
}
