{
 "cells": [
  {
   "cell_type": "code",
   "execution_count": null,
   "id": "d1206115",
   "metadata": {},
   "outputs": [],
   "source": [
    "Q1. Describe three applications for exception processing."
   ]
  },
  {
   "cell_type": "code",
   "execution_count": null,
   "id": "87eff61a",
   "metadata": {},
   "outputs": [],
   "source": [
    "Exceptions are raised when the program is syntactically correct, but the code resulted in an error. This error does not stop \n",
    "the execution of the program, however, it changes the normal flow of the program."
   ]
  },
  {
   "cell_type": "code",
   "execution_count": 2,
   "id": "d623af8a",
   "metadata": {},
   "outputs": [
    {
     "name": "stdout",
     "output_type": "stream",
     "text": [
      "Enter a:3\n",
      "Enter b:0\n",
      "division by zero\n",
      "can't divide by zero\n"
     ]
    }
   ],
   "source": [
    "def div(a,b):   \n",
    "    try: \n",
    "        # code executes here        \n",
    "        c = a/b  \n",
    "        print(\"a/b = \",c)    \n",
    "        # Using exception object with the except statement  \n",
    "    except Exception as e:    \n",
    "        print(e)  \n",
    "        return \"can't divide by zero\"\n",
    "    else:    \n",
    "        return \"This is else block and executed when code in try excetues without any exception\"\n",
    "        \n",
    "a = int(input(\"Enter a:\"))    \n",
    "b = int(input(\"Enter b:\"))           \n",
    "print(div(a,b))"
   ]
  },
  {
   "cell_type": "code",
   "execution_count": 3,
   "id": "8df8e325",
   "metadata": {},
   "outputs": [
    {
     "name": "stdout",
     "output_type": "stream",
     "text": [
      "[Errno 2] No such file or directory: 'sample.txt'\n",
      "Program is not interrupted\n"
     ]
    }
   ],
   "source": [
    "try:\n",
    "    f = open('sample.txt','r')\n",
    "except Exception as e:\n",
    "    print(e)\n",
    "else:\n",
    "    print(\"File opened successfully\")\n",
    "    f.close()\n",
    "    \n",
    "print('Program is not interrupted')\n",
    "\n",
    "\n",
    "# If we dont use try except else blocks, normal execution of program will be interrupted.\n",
    "\n",
    "# with try except, exception is caught when file is not found but program continues execution"
   ]
  },
  {
   "cell_type": "code",
   "execution_count": 1,
   "id": "a059b472",
   "metadata": {},
   "outputs": [
    {
     "name": "stdout",
     "output_type": "stream",
     "text": [
      "Excepton!!\n"
     ]
    }
   ],
   "source": [
    "try:\n",
    "    raise NameError('Bhagyesh')\n",
    "except NameError as e:\n",
    "    print(\"Excepton!!\")"
   ]
  },
  {
   "cell_type": "code",
   "execution_count": null,
   "id": "62f2f1fe",
   "metadata": {},
   "outputs": [],
   "source": [
    "Q2. What happens if you don't do something extra to treat an exception?"
   ]
  },
  {
   "cell_type": "code",
   "execution_count": null,
   "id": "24710aa5",
   "metadata": {},
   "outputs": [],
   "source": [
    "Whenever an exception occurs, the program stops the execution, and thus the further code is not executed. Therefore, an \n",
    "exception is the run-time errors that are unable to handle to Python script. An exception is a Python object that represents \n",
    "an error"
   ]
  },
  {
   "cell_type": "code",
   "execution_count": null,
   "id": "6e1cf9d1",
   "metadata": {},
   "outputs": [],
   "source": [
    "Q3. What are your options for recovering from an exception in your script?"
   ]
  },
  {
   "cell_type": "code",
   "execution_count": null,
   "id": "8549e43b",
   "metadata": {},
   "outputs": [],
   "source": [
    "In except block, we write a code to handle exception and next set of actions."
   ]
  },
  {
   "cell_type": "code",
   "execution_count": 2,
   "id": "479a382a",
   "metadata": {},
   "outputs": [
    {
     "name": "stdout",
     "output_type": "stream",
     "text": [
      "Enter an integer value::bs\n",
      "invalid literal for int() with base 10: 'bs'\n",
      "Please enter an integer value\n",
      "Yayy i always executes!!\n",
      "Enter an integer value::4\n",
      "Yes you have entered an ineger 4\n",
      "Yayy i always executes!!\n"
     ]
    }
   ],
   "source": [
    "def askint():\n",
    "    while True:\n",
    "        try:\n",
    "            a = int(input('Enter an integer value::'))\n",
    "        except Exception as e:\n",
    "            print(e)\n",
    "            print('Please enter an integer value')\n",
    "            continue\n",
    "        else:\n",
    "            print(f'Yes you have entered an ineger {a}')\n",
    "            break\n",
    "        finally:\n",
    "            print('Yayy i always executes!!')\n",
    "        \n",
    "askint()      "
   ]
  },
  {
   "cell_type": "code",
   "execution_count": null,
   "id": "721504ef",
   "metadata": {},
   "outputs": [],
   "source": [
    "Q4. Describe two methods for triggering exceptions in your script?"
   ]
  },
  {
   "cell_type": "code",
   "execution_count": null,
   "id": "5b53e456",
   "metadata": {},
   "outputs": [],
   "source": [
    "Try statement – This method throws the exceptions when the code within try is executed.\n",
    "Raise – Triggers an exception manually using custom exceptions.\n",
    "Examples are already explained above."
   ]
  },
  {
   "cell_type": "code",
   "execution_count": null,
   "id": "e13bcc93",
   "metadata": {},
   "outputs": [],
   "source": [
    "Q5. Identify two methods for specifying actions to be executed at termination time, regardless of whether or not an exception\n",
    "exists."
   ]
  },
  {
   "cell_type": "code",
   "execution_count": null,
   "id": "3a533b58",
   "metadata": {},
   "outputs": [],
   "source": [
    "In else block, code is written to handle if no exception is raised by code in try block.\n",
    "\n",
    "In finally block, code executes regardless of whether or not an exception exists.  "
   ]
  },
  {
   "cell_type": "code",
   "execution_count": null,
   "id": "eadc11aa",
   "metadata": {},
   "outputs": [],
   "source": []
  }
 ],
 "metadata": {
  "kernelspec": {
   "display_name": "Python 3 (ipykernel)",
   "language": "python",
   "name": "python3"
  },
  "language_info": {
   "codemirror_mode": {
    "name": "ipython",
    "version": 3
   },
   "file_extension": ".py",
   "mimetype": "text/x-python",
   "name": "python",
   "nbconvert_exporter": "python",
   "pygments_lexer": "ipython3",
   "version": "3.10.9"
  }
 },
 "nbformat": 4,
 "nbformat_minor": 5
}
