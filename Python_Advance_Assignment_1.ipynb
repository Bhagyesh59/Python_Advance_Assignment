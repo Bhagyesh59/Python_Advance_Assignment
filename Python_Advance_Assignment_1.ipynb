{
 "cells": [
  {
   "cell_type": "code",
   "execution_count": null,
   "id": "8ef0dcd9",
   "metadata": {},
   "outputs": [],
   "source": [
    "Q1. What is the purpose of Python's OOP?"
   ]
  },
  {
   "cell_type": "code",
   "execution_count": null,
   "id": "8590c3c0",
   "metadata": {},
   "outputs": [],
   "source": [
    "1. Provides a clear program structure and a clean code\n",
    "\n",
    "2. Facilitates easy maintenance and modification of existing code.\n",
    "\n",
    "3. Since the class is sharable, the code can be reused.\n",
    "\n",
    "4. Since the class is sharable, the code can be reused and many other such Advantages."
   ]
  },
  {
   "cell_type": "code",
   "execution_count": null,
   "id": "18fca438",
   "metadata": {},
   "outputs": [],
   "source": [
    "Q2. Where does an inheritance search look for an attribute?"
   ]
  },
  {
   "cell_type": "code",
   "execution_count": null,
   "id": "29a6cf71",
   "metadata": {},
   "outputs": [],
   "source": [
    "Attribute fetches are simply tree searches. The term inheritance is applied because objects lower in a tree inherit attributes \n",
    "attached to objects higher in that tree. As the search proceeds from the bottom up, in a sense, the objects linked into a tree \n",
    "are the union of all the attributes defined in all their tree parents, all the way up the tree."
   ]
  },
  {
   "cell_type": "code",
   "execution_count": null,
   "id": "74fba1e2",
   "metadata": {},
   "outputs": [],
   "source": [
    "Q3. How do you distinguish between a class object and an instance object?"
   ]
  },
  {
   "cell_type": "code",
   "execution_count": null,
   "id": "b2f5cbf8",
   "metadata": {},
   "outputs": [],
   "source": [
    "Objects and Instances are almost similar and are often used interchangeably but with a small difference. Object is a generic\n",
    "term , it is physically present but remains undiferrentiated. Instance is something that gives them a separate identity. \n",
    "\n",
    "Object is the physical entity for which memory is allocated. Object contains many instances.\n",
    "\n",
    "Instance : An instance is also the physical manifestation of a class that occupies memory and has data members.\n",
    "\n",
    "e.g. There is Class car, when I create c = car(), c is object. When we create different object with different \n",
    "specifications(car name, type, company) such as i10, i20, Creta, audi7 are called as instances which actually exists."
   ]
  },
  {
   "cell_type": "code",
   "execution_count": null,
   "id": "a3a2eb19",
   "metadata": {},
   "outputs": [],
   "source": [
    "Q4. What makes the first argument in a class’s method function special?"
   ]
  },
  {
   "cell_type": "code",
   "execution_count": null,
   "id": "1e4c67ca",
   "metadata": {},
   "outputs": [],
   "source": [
    "Self represents the instance of the class. By using the “self” keyword we can access the attributes and methods of the \n",
    "class in python. It binds the attributes with the given arguments.The reason you need to use self. is because Python does \n",
    "not use the @ syntax to refer to instance attributes. Python decided to do methods in a way that makes the instance to \n",
    "which the method belongs be passed automatically, but not received automatically: the first parameter of methods is the \n",
    "instance the method is called on."
   ]
  },
  {
   "cell_type": "code",
   "execution_count": null,
   "id": "cf059412",
   "metadata": {},
   "outputs": [],
   "source": [
    "Q5. What is the purpose of the __init__ method?"
   ]
  },
  {
   "cell_type": "code",
   "execution_count": null,
   "id": "e836d074",
   "metadata": {},
   "outputs": [],
   "source": [
    "The task of __init__ method is to initialize(assign values) to the data members of the class when an object of class is created.\n",
    "It contains collection of statements that are executed at time of Object creation. It is run as soon as an object of a class is\n",
    "instantiated. The method is useful to do any initialization you want to do with your object."
   ]
  },
  {
   "cell_type": "code",
   "execution_count": null,
   "id": "592250ae",
   "metadata": {},
   "outputs": [],
   "source": [
    "Q6. What is the process for creating a class instance?"
   ]
  },
  {
   "cell_type": "code",
   "execution_count": null,
   "id": "fec1a186",
   "metadata": {},
   "outputs": [],
   "source": [
    "To create instances of a class, you call the class using class name and pass in whatever arguments its __init__ method accepts."
   ]
  },
  {
   "cell_type": "code",
   "execution_count": null,
   "id": "4e011cae",
   "metadata": {},
   "outputs": [],
   "source": [
    "Q7. What is the process for creating a class?"
   ]
  },
  {
   "cell_type": "code",
   "execution_count": 1,
   "id": "222407ca",
   "metadata": {},
   "outputs": [
    {
     "name": "stdout",
     "output_type": "stream",
     "text": [
      "This is Akash Deep (an instance of a class Student)\n"
     ]
    }
   ],
   "source": [
    "#The class statement creates a new class definition. The name of the class immediately follows the keyword class \n",
    "#followed by a colon.Explained below \n",
    "\n",
    "#Example for questtion 6 & 7\n",
    "\n",
    "class Student:\n",
    "    def __init__(self,name):\n",
    "        self.name = name\n",
    "    \n",
    "    def __str__(self):\n",
    "        return f\"This is {self.name} (an instance of a class Student)\"\n",
    "    \n",
    "student1 = Student(\"Akash Deep\")       \n",
    "print(student1)"
   ]
  },
  {
   "cell_type": "code",
   "execution_count": null,
   "id": "2cf8f4e0",
   "metadata": {},
   "outputs": [],
   "source": [
    "Q8. How would you define the superclasses of a class?"
   ]
  },
  {
   "cell_type": "code",
   "execution_count": null,
   "id": "063f2a0e",
   "metadata": {},
   "outputs": [],
   "source": [
    "#A superclass is the class from which many subclasses can be created. The subclasses inherit the characteristics of a superclass.\n",
    "#The superclass is also known as the parent class or base class.\n",
    "\n",
    "\n",
    "class A:\n",
    "    def method_A(self):\n",
    "        return \"this is method of class A\"\n",
    "    \n",
    "class B(A):\n",
    "    def method_B(self):\n",
    "        return \"this is method of class B\"\n",
    "\n",
    "class C(A):\n",
    "    def method_B(self):\n",
    "        return \"this is method of class C\"\n",
    "    \n",
    "class D(A):\n",
    "    def method_B(self):\n",
    "        return \"this is method of class D\"\n",
    "\n",
    "# Class B, C, D are subclasses and Class A is superclass    \n",
    "a = A()\n",
    "b = B()\n",
    "c = C()\n",
    "d = D()\n",
    "\n",
    "print(a.method_A())\n",
    "print(b.method_B())\n",
    "print(b.method_A())   # objects of class B, C and D are able to access method of class A because Class A is superclass. \n",
    "print(c.method_A())\n",
    "print(d.method_A())"
   ]
  }
 ],
 "metadata": {
  "kernelspec": {
   "display_name": "Python 3 (ipykernel)",
   "language": "python",
   "name": "python3"
  },
  "language_info": {
   "codemirror_mode": {
    "name": "ipython",
    "version": 3
   },
   "file_extension": ".py",
   "mimetype": "text/x-python",
   "name": "python",
   "nbconvert_exporter": "python",
   "pygments_lexer": "ipython3",
   "version": "3.10.9"
  }
 },
 "nbformat": 4,
 "nbformat_minor": 5
}
