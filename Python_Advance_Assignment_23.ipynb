{
 "cells": [
  {
   "cell_type": "code",
   "execution_count": null,
   "id": "87547b96",
   "metadata": {},
   "outputs": [],
   "source": [
    "Q1. If you have any, what are your choices for increasing the comparison between different figures on the same graph?"
   ]
  },
  {
   "cell_type": "code",
   "execution_count": null,
   "id": "add91a95",
   "metadata": {},
   "outputs": [],
   "source": [
    "Bar charts are good for comparisons, while line charts work better for trends. Scatter plot charts are good for relationships \n",
    "and distributions, but pie charts should be used only for simple compositions — never for comparisons or distributions."
   ]
  },
  {
   "cell_type": "code",
   "execution_count": null,
   "id": "027b7bc7",
   "metadata": {},
   "outputs": [],
   "source": [
    "Q2. Can you explain the benefit of compound interest over a higher rate of interest that does not compound after reading this chapter?"
   ]
  },
  {
   "cell_type": "code",
   "execution_count": null,
   "id": "2cea6299",
   "metadata": {},
   "outputs": [],
   "source": [
    "Compound interest makes your money grow faster because interest is calculated on the accumulated interest over time as well as\n",
    "on your original principal. Compounding can create a snowball effect, as the original investments plus the income earned from \n",
    "those investments grow together."
   ]
  },
  {
   "cell_type": "code",
   "execution_count": null,
   "id": "3cbc9aaa",
   "metadata": {},
   "outputs": [],
   "source": [
    "Q3. What is a histogram, exactly? Name a numpy method for creating such a graph."
   ]
  },
  {
   "cell_type": "code",
   "execution_count": null,
   "id": "c850fe8b",
   "metadata": {},
   "outputs": [],
   "source": [
    "Histogram is a type of a plot which hold the total number of counts or the percentile value in y-axis w.r.t. corresponding \n",
    "x-variables. When we say the number of counts it means that for a particular range in x-axis what will be the number of counts\n",
    "of the data points. When we talk about percentile it shows the probability occurrence of the x-variable or what percentage of \n",
    "data are below that particular percetile value w.r.t. particular x-variable range. Numpy has a built-in numpy. histogram() \n",
    "function."
   ]
  },
  {
   "cell_type": "code",
   "execution_count": null,
   "id": "b977f98d",
   "metadata": {},
   "outputs": [],
   "source": [
    "Q4. If necessary, how do you change the aspect ratios between the X and Y axes?"
   ]
  },
  {
   "cell_type": "code",
   "execution_count": null,
   "id": "cd9bc642",
   "metadata": {},
   "outputs": [],
   "source": [
    "# We can use figure(figsize=(10,8)) function inside the matplot.pyplot library which we scale \n",
    "# down or up the graph.\n",
    "figure(figsize=(10,8))"
   ]
  },
  {
   "cell_type": "code",
   "execution_count": null,
   "id": "4dd0914e",
   "metadata": {},
   "outputs": [],
   "source": [
    "Q5. Compare and contrast the three types of array multiplication between two numpy arrays: dot product, outer product, and regular multiplication of two numpy arrays."
   ]
  },
  {
   "cell_type": "code",
   "execution_count": 3,
   "id": "9beb660b",
   "metadata": {},
   "outputs": [],
   "source": [
    "import numpy as np"
   ]
  },
  {
   "cell_type": "code",
   "execution_count": 4,
   "id": "d3cb1d8f",
   "metadata": {},
   "outputs": [],
   "source": [
    "a1=np.array([[1,2,3],[4,5,6],[6,7,8]])\n",
    "a2=np.array([[10,20,30],[40,50,60],[60,70,80]])\n",
    "\n",
    "# suppose above are the two arrays of shape 3 x 3"
   ]
  },
  {
   "cell_type": "code",
   "execution_count": 5,
   "id": "2b6c6c64",
   "metadata": {},
   "outputs": [
    {
     "name": "stdout",
     "output_type": "stream",
     "text": [
      "[[1 2 3]\n",
      " [4 5 6]\n",
      " [6 7 8]]\n",
      "\n",
      "[[10 20 30]\n",
      " [40 50 60]\n",
      " [60 70 80]]\n"
     ]
    }
   ],
   "source": [
    "print(a1)\n",
    "print()\n",
    "print(a2)"
   ]
  },
  {
   "cell_type": "code",
   "execution_count": 6,
   "id": "d9263436",
   "metadata": {},
   "outputs": [
    {
     "data": {
      "text/plain": [
       "array([[ 10,  40,  90],\n",
       "       [160, 250, 360],\n",
       "       [360, 490, 640]])"
      ]
     },
     "execution_count": 6,
     "metadata": {},
     "output_type": "execute_result"
    }
   ],
   "source": [
    "#standard multiplication\n",
    "a1*a2"
   ]
  },
  {
   "cell_type": "code",
   "execution_count": 7,
   "id": "a021f2c5",
   "metadata": {},
   "outputs": [
    {
     "data": {
      "text/plain": [
       "array([[ 270,  330,  390],\n",
       "       [ 600,  750,  900],\n",
       "       [ 820, 1030, 1240]])"
      ]
     },
     "execution_count": 7,
     "metadata": {},
     "output_type": "execute_result"
    }
   ],
   "source": [
    "# When we do standard multiplication in that case values of the same indexes in the array will get multiply. \n",
    "# Like in above example. A1(i,j) x A2(i,j)\n",
    "# dot product\n",
    "np.dot(a1,a2)"
   ]
  },
  {
   "cell_type": "code",
   "execution_count": 8,
   "id": "8adecfb8",
   "metadata": {},
   "outputs": [
    {
     "data": {
      "text/plain": [
       "array([[ 10,  20,  30,  40,  50,  60,  60,  70,  80],\n",
       "       [ 20,  40,  60,  80, 100, 120, 120, 140, 160],\n",
       "       [ 30,  60,  90, 120, 150, 180, 180, 210, 240],\n",
       "       [ 40,  80, 120, 160, 200, 240, 240, 280, 320],\n",
       "       [ 50, 100, 150, 200, 250, 300, 300, 350, 400],\n",
       "       [ 60, 120, 180, 240, 300, 360, 360, 420, 480],\n",
       "       [ 60, 120, 180, 240, 300, 360, 360, 420, 480],\n",
       "       [ 70, 140, 210, 280, 350, 420, 420, 490, 560],\n",
       "       [ 80, 160, 240, 320, 400, 480, 480, 560, 640]])"
      ]
     },
     "execution_count": 8,
     "metadata": {},
     "output_type": "execute_result"
    }
   ],
   "source": [
    "# In case of dot product vector, multiplication will take place between row of first array and column of secodn array \n",
    "# .respectively. Like first row of array a1 will be multiply by column value of array a2 one by one and then added.\n",
    "#outer multiplication\n",
    "np.outer(a1,a2)"
   ]
  },
  {
   "cell_type": "code",
   "execution_count": null,
   "id": "65a9e7d8",
   "metadata": {},
   "outputs": [],
   "source": [
    "In outer multiplication every element of first array a1 will be multiply by every element of other array a2 such such the number of columns will be equal to the number of element in another array a2."
   ]
  },
  {
   "cell_type": "code",
   "execution_count": null,
   "id": "98db4a81",
   "metadata": {},
   "outputs": [],
   "source": [
    "Q6. Before you buy a home, which numpy function will you use to measure your monthly mortgage payment?"
   ]
  },
  {
   "cell_type": "code",
   "execution_count": null,
   "id": "46895431",
   "metadata": {},
   "outputs": [],
   "source": [
    "np.pmt(rate, nper, pv) function we will be using in order to calculate monthly mortgage payment before you purchase a house\n",
    "       rate = The periodic interest rate\n",
    "       nper = The number of payment periods\n",
    "       pv = The total value of the mortgage loan"
   ]
  },
  {
   "cell_type": "code",
   "execution_count": null,
   "id": "df322e6f",
   "metadata": {},
   "outputs": [],
   "source": [
    "Q7. Can string data be stored in numpy arrays? If so, list at least one restriction that applies to this data."
   ]
  },
  {
   "cell_type": "code",
   "execution_count": null,
   "id": "469e1a98",
   "metadata": {},
   "outputs": [],
   "source": [
    "Yes an array can store the string.The limitation which imposed on the string data is, whenever we store the data of string dtype\n",
    "then it should should keep in mind that the string which is having the maximum length is the limit.\n",
    "The dtype value is the maximum length of a string in such data. Meaning suppose if any new string we wanted to add, then we can\n",
    "add only that string which have the length either equal to that dtype value or less than that. If any string which are adding \n",
    "and if its length is more than the dtype value then it will only accpet to maximum length and rest of the characters will not be\n",
    "included."
   ]
  }
 ],
 "metadata": {
  "kernelspec": {
   "display_name": "Python 3 (ipykernel)",
   "language": "python",
   "name": "python3"
  },
  "language_info": {
   "codemirror_mode": {
    "name": "ipython",
    "version": 3
   },
   "file_extension": ".py",
   "mimetype": "text/x-python",
   "name": "python",
   "nbconvert_exporter": "python",
   "pygments_lexer": "ipython3",
   "version": "3.10.9"
  }
 },
 "nbformat": 4,
 "nbformat_minor": 5
}
