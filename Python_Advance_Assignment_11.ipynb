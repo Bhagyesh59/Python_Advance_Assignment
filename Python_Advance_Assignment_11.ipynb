{
 "cells": [
  {
   "cell_type": "code",
   "execution_count": null,
   "id": "b667b5c8",
   "metadata": {},
   "outputs": [],
   "source": [
    "Q1. What is the concept of a metaclass?"
   ]
  },
  {
   "cell_type": "code",
   "execution_count": null,
   "id": "b9eaa3f3",
   "metadata": {},
   "outputs": [],
   "source": [
    "In python everything is associated with type. In other programming languages, int, str, array are data type. But, in python, \n",
    "they are objects of the class int, str, list, dict. We can create user defined type by creating a class and then object of that\n",
    "class.\n",
    "A Class is also an object, and just like any other object it’s a instance of something called Metaclass. A special class type \n",
    "creates these Class object. The type class is default metaclass which is responsible for making classes."
   ]
  },
  {
   "cell_type": "code",
   "execution_count": null,
   "id": "ed12865c",
   "metadata": {},
   "outputs": [],
   "source": [
    "Q2. What is the best way to declare a class's metaclass?"
   ]
  },
  {
   "cell_type": "code",
   "execution_count": null,
   "id": "eb1206da",
   "metadata": {},
   "outputs": [],
   "source": [
    "When defining a class and no metaclass is defined the default type metaclass will be used. If a metaclass is given and it is \n",
    "not an instance of type(), then it is used directly as the metaclass."
   ]
  },
  {
   "cell_type": "code",
   "execution_count": 1,
   "id": "ed8c2075",
   "metadata": {},
   "outputs": [
    {
     "name": "stdout",
     "output_type": "stream",
     "text": [
      "<class 'type'>\n",
      "<class '__main__.A'>\n",
      "<class '__main__.A'>\n"
     ]
    }
   ],
   "source": [
    "class A(type):\n",
    "    pass\n",
    "\n",
    "class B(metaclass=A):  \n",
    "# for class B, class A is a metaclass\n",
    "    pass\n",
    "class C(B):\n",
    "    pass\n",
    "\n",
    "print(type(A))\n",
    "print(type(B))\n",
    "print(type(C))"
   ]
  },
  {
   "cell_type": "code",
   "execution_count": null,
   "id": "30198c81",
   "metadata": {},
   "outputs": [],
   "source": [
    "Q3. How do class decorators overlap with metaclasses for handling classes?"
   ]
  },
  {
   "cell_type": "code",
   "execution_count": null,
   "id": "a1bfba38",
   "metadata": {},
   "outputs": [],
   "source": [
    "Both decorators and metaclass have some common things. When we want to aplly some common functionality to attributes of the \n",
    "class instances, both can be used. There are some problems which can be solved by decorators as well as by metaclasses. But \n",
    "there are a few problems that can only be solved by metaclasses. Use of metaclass affects its children while the decorator \n",
    "affects only the current class."
   ]
  },
  {
   "cell_type": "code",
   "execution_count": null,
   "id": "0ddf82c8",
   "metadata": {},
   "outputs": [],
   "source": [
    "Q4. How do class decorators overlap with metaclasses for handling instances?"
   ]
  },
  {
   "cell_type": "code",
   "execution_count": null,
   "id": "124e3f1b",
   "metadata": {},
   "outputs": [],
   "source": [
    "Both decorators and metaclass have some common things. When we want to aplly some common functionality to attributes of the \n",
    "class instances, both can be used. There are some problems which can be solved by decorators as well as by metaclasses. But \n",
    "there are a few problems that can only be solved by metaclasses. Use of metaclass affects its children while the decorator \n",
    "affects only the current class."
   ]
  }
 ],
 "metadata": {
  "kernelspec": {
   "display_name": "Python 3 (ipykernel)",
   "language": "python",
   "name": "python3"
  },
  "language_info": {
   "codemirror_mode": {
    "name": "ipython",
    "version": 3
   },
   "file_extension": ".py",
   "mimetype": "text/x-python",
   "name": "python",
   "nbconvert_exporter": "python",
   "pygments_lexer": "ipython3",
   "version": "3.10.9"
  }
 },
 "nbformat": 4,
 "nbformat_minor": 5
}
