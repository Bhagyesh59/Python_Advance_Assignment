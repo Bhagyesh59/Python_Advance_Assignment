{
 "cells": [
  {
   "cell_type": "code",
   "execution_count": null,
   "id": "f843ffee",
   "metadata": {},
   "outputs": [],
   "source": [
    "Q1. In Python 3.X, what are the names and functions of string object types?"
   ]
  },
  {
   "cell_type": "code",
   "execution_count": null,
   "id": "8c483edb",
   "metadata": {},
   "outputs": [],
   "source": [
    "In Python 3.X and later, String objects has bulit in class named as \"str\" and it is used to store characters in memory in \n",
    "encoded format."
   ]
  },
  {
   "cell_type": "code",
   "execution_count": null,
   "id": "9ded1ff3",
   "metadata": {},
   "outputs": [],
   "source": [
    "Q2. How do the string forms in Python 3.X vary in terms of operations?"
   ]
  },
  {
   "cell_type": "code",
   "execution_count": null,
   "id": "725f3967",
   "metadata": {},
   "outputs": [],
   "source": [
    "Python supports ASCII as a subset of Unicode. The default encoding of characters in Python is UTF-8 (Unicode Transformation \n",
    "Format - 8-bit).ASCII is really a 7-bit character set; it is mapped to 8-bit bytes by setting the high bit to zero. Thus, ASCII\n",
    "characters are unchanged in UTF-8. A non-zero high bit indicates that a character composed of multiple bytes."
   ]
  },
  {
   "cell_type": "code",
   "execution_count": 2,
   "id": "20944063",
   "metadata": {},
   "outputs": [
    {
     "name": "stdout",
     "output_type": "stream",
     "text": [
      "104\n"
     ]
    }
   ],
   "source": [
    "u = 'Bhagyesh'\n",
    "print(ord(u[-1]))"
   ]
  },
  {
   "cell_type": "code",
   "execution_count": null,
   "id": "327e6498",
   "metadata": {},
   "outputs": [],
   "source": [
    "Q3. In 3.X, how do you put non-ASCII Unicode characters in a string?"
   ]
  },
  {
   "cell_type": "code",
   "execution_count": null,
   "id": "c0d60bc9",
   "metadata": {},
   "outputs": [],
   "source": [
    "As we know, there are only 127 ASCII characters in ascii table. It stores symbols, letters, whitespace characters, non \n",
    "printable characters, which are very less. So Python 3 has adopted unicode encoding of strings. for non ASCII u can get any \n",
    "value more than 127."
   ]
  },
  {
   "cell_type": "code",
   "execution_count": 3,
   "id": "2c3fd056",
   "metadata": {},
   "outputs": [
    {
     "name": "stdout",
     "output_type": "stream",
     "text": [
      "Bhagyesh©\n"
     ]
    }
   ],
   "source": [
    "s = 'Bhagyesh'\n",
    "\n",
    "s += chr(128)+chr(169)\n",
    "print(s)"
   ]
  },
  {
   "cell_type": "code",
   "execution_count": null,
   "id": "a8537401",
   "metadata": {},
   "outputs": [],
   "source": [
    "Q4. In Python 3.X, what are the key differences between text-mode and binary-mode files?"
   ]
  },
  {
   "cell_type": "code",
   "execution_count": null,
   "id": "0dd251a1",
   "metadata": {},
   "outputs": [],
   "source": [
    "Files opened in binary mode (appending 'b' to the mode argument) return contents as bytes objects without any decoding. In text\n",
    "mode (the default, or when 't' is appended to the mode argument), the contents of the file are returned as strings, the bytes \n",
    "having been first decoded using a platform-dependent encoding or using the specified encoding if given"
   ]
  },
  {
   "cell_type": "code",
   "execution_count": null,
   "id": "719d73ee",
   "metadata": {},
   "outputs": [],
   "source": [
    "Q5. How can you interpret a Unicode text file containing text encoded in a different encoding than your platform's default?"
   ]
  },
  {
   "cell_type": "code",
   "execution_count": null,
   "id": "82f37674",
   "metadata": {},
   "outputs": [],
   "source": [
    "While reading file, we can specify the encoding such as(utf16, utf32), so the file will be decoded according to that encoding \n",
    "and results are returned to the user."
   ]
  },
  {
   "cell_type": "code",
   "execution_count": 4,
   "id": "760d7292",
   "metadata": {},
   "outputs": [
    {
     "name": "stdout",
     "output_type": "stream",
     "text": [
      "this is sample text file for understanding encoding\n"
     ]
    }
   ],
   "source": [
    "text = \"this is sample text file for understanding encoding\"\n",
    "f = open('sample.txt','w', encoding='utf16')\n",
    "f.write(text)\n",
    "f.close()\n",
    "\n",
    "f = open('sample.txt','r', encoding='utf16')\n",
    "print(f.read())"
   ]
  },
  {
   "cell_type": "code",
   "execution_count": null,
   "id": "570d5b76",
   "metadata": {},
   "outputs": [],
   "source": [
    "Q7. What qualifies ASCII text as a form of Unicode text"
   ]
  },
  {
   "cell_type": "code",
   "execution_count": null,
   "id": "86fad6b2",
   "metadata": {},
   "outputs": [],
   "source": [
    "The first 128 Unicode code points represent the equivalent ASCII characters. They have the same meaning in both ASCII and \n",
    "unicode. Since UTF-8 encodes each of these characters with a single byte, any ASCII text is also a UTF-8 text. Unicode is a \n",
    "superset of ASCII."
   ]
  },
  {
   "cell_type": "code",
   "execution_count": null,
   "id": "3cc760d7",
   "metadata": {},
   "outputs": [],
   "source": [
    "Q8. How much of an effect does the change in string types in Python 3.X have on your code?"
   ]
  },
  {
   "cell_type": "code",
   "execution_count": null,
   "id": "22e0d45a",
   "metadata": {},
   "outputs": [],
   "source": [
    "In Python 3.X and later, there is only one string type that is unicode. So no effect on the code."
   ]
  }
 ],
 "metadata": {
  "kernelspec": {
   "display_name": "Python 3 (ipykernel)",
   "language": "python",
   "name": "python3"
  },
  "language_info": {
   "codemirror_mode": {
    "name": "ipython",
    "version": 3
   },
   "file_extension": ".py",
   "mimetype": "text/x-python",
   "name": "python",
   "nbconvert_exporter": "python",
   "pygments_lexer": "ipython3",
   "version": "3.10.9"
  }
 },
 "nbformat": 4,
 "nbformat_minor": 5
}
