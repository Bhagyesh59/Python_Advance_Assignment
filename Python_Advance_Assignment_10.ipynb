{
 "cells": [
  {
   "cell_type": "code",
   "execution_count": null,
   "id": "ee8563ea",
   "metadata": {},
   "outputs": [],
   "source": [
    "Q1. What is the difference between __getattr__ and __getattribute__?"
   ]
  },
  {
   "cell_type": "code",
   "execution_count": null,
   "id": "bfc0bdc3",
   "metadata": {},
   "outputs": [],
   "source": [
    "Normally, if we want to access the attribute of a class, we access it with instance of the class like instance.attribute_name. \n",
    "These attributes are already present in the class. Where as, to access the attribute of class which are not defined in the \n",
    "class, we use __getattr__() method. But if the attribute does exist, __getattr__ won’t be invoked"
   ]
  },
  {
   "cell_type": "code",
   "execution_count": 1,
   "id": "56907451",
   "metadata": {},
   "outputs": [
    {
     "name": "stdout",
     "output_type": "stream",
     "text": [
      "pune\n",
      "abcd\n"
     ]
    }
   ],
   "source": [
    "class Sample:\n",
    "    def __init__(self,address):\n",
    "        self.address = address\n",
    "    \n",
    "    def __getattr__(self,name):\n",
    "        return name.lower()\n",
    "    \n",
    "s =Sample('pune')\n",
    "print(s.address) # existing attribute\n",
    "print(s.ABCD) # ABCD is non defined in class"
   ]
  },
  {
   "cell_type": "code",
   "execution_count": 2,
   "id": "5f8cf2eb",
   "metadata": {},
   "outputs": [
    {
     "name": "stdout",
     "output_type": "stream",
     "text": [
      "New Value\n"
     ]
    }
   ],
   "source": [
    "# getattribute will look for every attribute, doesn’t matter if the attribute exists or not.\n",
    "\n",
    "class Dummy():\n",
    "\n",
    "    def __getattribute__(self, attr):\n",
    "        return 'New Value'\n",
    "\n",
    "d = Dummy()\n",
    "d.value = \"Old value\"\n",
    "print(d.value)  # \"YOU SEE ME?\""
   ]
  },
  {
   "cell_type": "code",
   "execution_count": null,
   "id": "ebd11f9f",
   "metadata": {},
   "outputs": [],
   "source": [
    "Q2. What is the difference between properties and descriptors?"
   ]
  },
  {
   "cell_type": "code",
   "execution_count": null,
   "id": "fd586feb",
   "metadata": {},
   "outputs": [],
   "source": [
    "In Properties, We can bind getter, setter functions with an attribute name, using the built-in property function. In descriptor,\n",
    "We can bind getter, setter (and deleter) functions into a separate class. We then assign an object of this class to the \n",
    "attribute name. "
   ]
  },
  {
   "cell_type": "code",
   "execution_count": null,
   "id": "8050e528",
   "metadata": {},
   "outputs": [],
   "source": [
    "Q3. What are the key differences in functionality between __getattr__ and __getattribute__, as well as properties and descriptors?"
   ]
  },
  {
   "cell_type": "code",
   "execution_count": null,
   "id": "05f14f96",
   "metadata": {},
   "outputs": [],
   "source": [
    "To access the attribute of class which are not defined in the class, we use __getattr__() method. But if the attribute does \n",
    "exist, __getattr__ won’t be invoked. __getattribute__ will look for every attribute, doesn’t matter if the attribute exists \n",
    "or not.    \n",
    "In Properties, We can bind getter, setter functions with an attribute name, using the built-in property function. In descriptor,\n",
    "We can bind getter, setter (and deleter) functions into a separate class. We then assign an object of this class to the attribute name."
   ]
  }
 ],
 "metadata": {
  "kernelspec": {
   "display_name": "Python 3 (ipykernel)",
   "language": "python",
   "name": "python3"
  },
  "language_info": {
   "codemirror_mode": {
    "name": "ipython",
    "version": 3
   },
   "file_extension": ".py",
   "mimetype": "text/x-python",
   "name": "python",
   "nbconvert_exporter": "python",
   "pygments_lexer": "ipython3",
   "version": "3.10.9"
  }
 },
 "nbformat": 4,
 "nbformat_minor": 5
}
