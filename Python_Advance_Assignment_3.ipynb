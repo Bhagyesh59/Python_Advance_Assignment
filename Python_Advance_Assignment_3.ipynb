{
 "cells": [
  {
   "cell_type": "code",
   "execution_count": null,
   "id": "a0f54181",
   "metadata": {},
   "outputs": [],
   "source": [
    "1. What is the concept of an abstract superclass?"
   ]
  },
  {
   "cell_type": "code",
   "execution_count": null,
   "id": "b3a36d9c",
   "metadata": {},
   "outputs": [],
   "source": [
    "A class is called an Abstract class if it contains one or more abstract methods. An abstract method is a method that is \n",
    "declared, but contains no implementation. Abstract classes may not be instantiated, and its abstract methods must be implemented\n",
    "by its subclasses."
   ]
  },
  {
   "cell_type": "code",
   "execution_count": 2,
   "id": "29237871",
   "metadata": {},
   "outputs": [
    {
     "name": "stdout",
     "output_type": "stream",
     "text": [
      "area:  375\n"
     ]
    }
   ],
   "source": [
    "import abc\n",
    "\n",
    "class Shape(metaclass=abc.ABCMeta):\n",
    "    @abc.abstractmethod\n",
    "    def area(self):\n",
    "        pass\n",
    "\n",
    "class Rectangle(Shape):\n",
    "    def __init__(self, x,y):\n",
    "        self.l = x\n",
    "        self.b=y\n",
    "    \n",
    "    def area(self):\n",
    "        return self.l*self.b\n",
    "    \n",
    "r = Rectangle(15,25)\n",
    "print ('area: ',r.area())"
   ]
  },
  {
   "cell_type": "code",
   "execution_count": null,
   "id": "2bea9b88",
   "metadata": {},
   "outputs": [],
   "source": [
    "The 'abc' module in Python library provides the infrastructure for defining custom abstract base classes. 'abc' works by marking\n",
    "methods of the base class as abstract. This is done by @absttractmethod decorator. A concrete class which is a sub class of such\n",
    "abstract base class then implements the abstract base by overriding its abstract methods.\n",
    "\n",
    "The abc module defines ABCMeta class which is a metaclass for defining abstract base class. Following example defines Shape \n",
    "class as an abstract base class using ABCMeta. The shape class has area() method decorated by abstractmethod.\n",
    "\n",
    "A Rectangle class now uses above Shape class as its parent and implementing the abstract area() method. Since it is a concrete \n",
    "class, it can be instantiated and imlemented area() method can be called."
   ]
  },
  {
   "cell_type": "code",
   "execution_count": null,
   "id": "334b75b2",
   "metadata": {},
   "outputs": [],
   "source": [
    "2. What happens when a class statement's top level contains a basic assignment statement?"
   ]
  },
  {
   "cell_type": "code",
   "execution_count": null,
   "id": "aa6b4f04",
   "metadata": {},
   "outputs": [],
   "source": [
    "When class statement's top level contains a basic assignment statement, it is considered as class attribute. Change in the value\n",
    "of class attribute will affect all the instances of the class."
   ]
  },
  {
   "cell_type": "code",
   "execution_count": 3,
   "id": "e3a22342",
   "metadata": {},
   "outputs": [
    {
     "name": "stdout",
     "output_type": "stream",
     "text": [
      "1234\n",
      "2\n",
      "3\n",
      "567\n",
      "567\n"
     ]
    }
   ],
   "source": [
    "class Sample:\n",
    "    some_value = 1234\n",
    "    \n",
    "    def __init__(self, value1):\n",
    "        self.value1 = value1\n",
    "        \n",
    "s = Sample(2)       \n",
    "s1 = Sample(3)\n",
    "\n",
    "print(s.some_value)\n",
    "print(s.value1)\n",
    "print(s1.value1)\n",
    "\n",
    "Sample.some_value = 567\n",
    "print(s.some_value) #observe value is changed for both the objects\n",
    "print(s1.some_value)"
   ]
  },
  {
   "cell_type": "code",
   "execution_count": null,
   "id": "94649ef9",
   "metadata": {},
   "outputs": [],
   "source": [
    "3. Why does a class need to manually call a superclass's __init__ method?"
   ]
  },
  {
   "cell_type": "code",
   "execution_count": null,
   "id": "18a0f878",
   "metadata": {},
   "outputs": [],
   "source": [
    "By doing so,we can access those methods of the super-class (parent class) which have been overridden in a sub-class \n",
    "(child class) that inherits from it."
   ]
  },
  {
   "cell_type": "code",
   "execution_count": null,
   "id": "c31d76b8",
   "metadata": {},
   "outputs": [],
   "source": [
    "4. How can you augment, instead of completely replacing, an inherited method?"
   ]
  },
  {
   "cell_type": "code",
   "execution_count": null,
   "id": "5e9bcd20",
   "metadata": {},
   "outputs": [],
   "source": [
    "The way to do that in Python is by calling to the original version directly, with augmented arguments."
   ]
  },
  {
   "cell_type": "code",
   "execution_count": null,
   "id": "85e34dd1",
   "metadata": {},
   "outputs": [],
   "source": [
    "5. How is the local scope of a class different from that of a function?"
   ]
  },
  {
   "cell_type": "code",
   "execution_count": null,
   "id": "4adb5586",
   "metadata": {},
   "outputs": [],
   "source": [
    "In class, if the variable is declared without self then it is accessible within that function only, kinda local variable. \n",
    "However if it declared using self like self.variable_name = 'somevalue', then it is accessible via any object but not via \n",
    "the class name. \n",
    "Whereas, if a variable is declared within a function then it is a local variable and is accessible to that function only."
   ]
  }
 ],
 "metadata": {
  "kernelspec": {
   "display_name": "Python 3 (ipykernel)",
   "language": "python",
   "name": "python3"
  },
  "language_info": {
   "codemirror_mode": {
    "name": "ipython",
    "version": 3
   },
   "file_extension": ".py",
   "mimetype": "text/x-python",
   "name": "python",
   "nbconvert_exporter": "python",
   "pygments_lexer": "ipython3",
   "version": "3.10.9"
  }
 },
 "nbformat": 4,
 "nbformat_minor": 5
}
